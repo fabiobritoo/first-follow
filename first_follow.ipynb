{
 "cells": [
  {
   "cell_type": "markdown",
   "metadata": {},
   "source": [
    "### First Follow"
   ]
  },
  {
   "cell_type": "code",
   "execution_count": 148,
   "metadata": {},
   "outputs": [],
   "source": [
    "import os\n",
    "import pandas as pd\n",
    "import numpy as np"
   ]
  },
  {
   "cell_type": "code",
   "execution_count": 149,
   "metadata": {},
   "outputs": [],
   "source": [
    "def checar_dictionario(key, dict):\n",
    "    check = key in dict\n",
    "    if check:\n",
    "        if len(dict[key])>0:\n",
    "            return True\n",
    "    return False"
   ]
  },
  {
   "cell_type": "code",
   "execution_count": 150,
   "metadata": {},
   "outputs": [],
   "source": [
    "def print_dict(dictionary):\n",
    "    for key, value in dictionary.items():\n",
    "        print(key + \" : \" + listToString(value))"
   ]
  },
  {
   "cell_type": "code",
   "execution_count": null,
   "metadata": {},
   "outputs": [],
   "source": []
  },
  {
   "cell_type": "code",
   "execution_count": 151,
   "metadata": {},
   "outputs": [],
   "source": [
    "file_path = \"lib/input/productions/\"\n",
    "\n",
    "try:\n",
    "    file_name = file_name_externo\n",
    "except:\n",
    "    file_name = \"exemplo2.txt\"\n",
    "try:\n",
    "    codigo_entrada = open(file_path + file_name, \"r\", encoding=\"utf8\").read()\n",
    "except:\n",
    "    codigo_entrada = \"\"\"S -> aSbc | D\n",
    "D -> dD | d\"\"\""
   ]
  },
  {
   "cell_type": "code",
   "execution_count": 152,
   "metadata": {},
   "outputs": [],
   "source": [
    "simbolo_inicial = codigo_entrada[0]"
   ]
  },
  {
   "cell_type": "code",
   "execution_count": 153,
   "metadata": {},
   "outputs": [],
   "source": [
    "codigo_entrada = codigo_entrada.replace('id','i')\n",
    "codigo_entrada = codigo_entrada.replace('num','n')\n",
    "codigo_entrada = codigo_entrada.replace(':=','=')"
   ]
  },
  {
   "cell_type": "code",
   "execution_count": 154,
   "metadata": {},
   "outputs": [],
   "source": [
    "import re"
   ]
  },
  {
   "cell_type": "code",
   "execution_count": 155,
   "metadata": {},
   "outputs": [
    {
     "data": {
      "text/plain": [
       "5"
      ]
     },
     "execution_count": 155,
     "metadata": {},
     "output_type": "execute_result"
    }
   ],
   "source": [
    "qtd_linhas = codigo_entrada.count(\"\\n\") + 1\n",
    "qtd_linhas"
   ]
  },
  {
   "cell_type": "code",
   "execution_count": 156,
   "metadata": {},
   "outputs": [],
   "source": [
    "### Encontrar\n",
    "regex_terminais = r\"[\\[\\]\\(\\)a-z+:=*-/;]\"\n",
    "matches = re.finditer(regex_terminais, codigo_entrada.replace(\"->\",\" \"), re.MULTILINE)\n",
    "variaveis_terminais = []\n",
    "for match in matches:\n",
    "    variaveis_terminais.append(match.group())\n",
    "\n",
    "variaveis_terminais = list(dict.fromkeys(variaveis_terminais))\n"
   ]
  },
  {
   "cell_type": "code",
   "execution_count": 157,
   "metadata": {},
   "outputs": [],
   "source": [
    "### Adicionar num\n",
    "cond_num_1 = 'n' in variaveis_terminais\n",
    "cond_num_2 = 'u' in variaveis_terminais\n",
    "cond_num_3 = 'm' in variaveis_terminais\n",
    "\n",
    "if (cond_num_1 and cond_num_2 and cond_num_3):\n",
    "    variaveis_terminais.remove('n')\n",
    "    variaveis_terminais.remove('u')\n",
    "    variaveis_terminais.remove('m')\n",
    "    variaveis_terminais.append('n')\n",
    "\n",
    "### Adicionar id\n",
    "cond_id_1 = 'i' in variaveis_terminais\n",
    "cond_id_2 = 'd' in variaveis_terminais\n",
    "\n",
    "if (cond_id_1 and cond_id_2):\n",
    "    variaveis_terminais.remove('i')\n",
    "    variaveis_terminais.remove('d')\n",
    "    variaveis_terminais.append('i')\n",
    "\n",
    "### Adicionar :=\n",
    "cond_ponto_1 = ':' in variaveis_terminais\n",
    "cond_ponto_2 = '=' in variaveis_terminais\n",
    "\n",
    "if (cond_ponto_1 and cond_ponto_2):\n",
    "    variaveis_terminais.remove(':')\n",
    "    variaveis_terminais.remove('=')\n",
    "    variaveis_terminais.append('=')"
   ]
  },
  {
   "cell_type": "code",
   "execution_count": 158,
   "metadata": {},
   "outputs": [
    {
     "data": {
      "text/plain": [
       "['b', 'a', 'd', 'g', 'h']"
      ]
     },
     "execution_count": 158,
     "metadata": {},
     "output_type": "execute_result"
    }
   ],
   "source": [
    "variaveis_terminais"
   ]
  },
  {
   "cell_type": "code",
   "execution_count": 159,
   "metadata": {},
   "outputs": [
    {
     "data": {
      "text/plain": [
       "['b', 'a', 'd', 'g', 'h']"
      ]
     },
     "execution_count": 159,
     "metadata": {},
     "output_type": "execute_result"
    }
   ],
   "source": [
    "variaveis_terminais"
   ]
  },
  {
   "cell_type": "code",
   "execution_count": 160,
   "metadata": {},
   "outputs": [
    {
     "data": {
      "text/plain": [
       "['S', 'A', 'B', 'C']"
      ]
     },
     "execution_count": 160,
     "metadata": {},
     "output_type": "execute_result"
    }
   ],
   "source": [
    "# regex_nao_terminais = r\"[A-Z]\"\n",
    "regex_nao_terminais = r\".+?(?=->)\"\n",
    "matches = re.finditer(regex_nao_terminais, codigo_entrada, re.MULTILINE)\n",
    "variaveis_nao_terminais = []\n",
    "for match in matches:\n",
    "    variaveis_nao_terminais.append(match.group().strip())\n",
    "\n",
    "variaveis_nao_terminais\n",
    "# variaveis_nao_terminais = list(dict.fromkeys(variaveis_nao_terminais))"
   ]
  },
  {
   "cell_type": "code",
   "execution_count": null,
   "metadata": {},
   "outputs": [],
   "source": []
  },
  {
   "cell_type": "code",
   "execution_count": 161,
   "metadata": {},
   "outputs": [
    {
     "data": {
      "text/plain": [
       "['S', 'A', 'B', 'C']"
      ]
     },
     "execution_count": 161,
     "metadata": {},
     "output_type": "execute_result"
    }
   ],
   "source": [
    "variaveis_nao_terminais"
   ]
  },
  {
   "cell_type": "code",
   "execution_count": 162,
   "metadata": {},
   "outputs": [
    {
     "data": {
      "text/plain": [
       "['S', 'A', 'B', 'C']"
      ]
     },
     "execution_count": 162,
     "metadata": {},
     "output_type": "execute_result"
    }
   ],
   "source": [
    "variaveis_nao_terminais"
   ]
  },
  {
   "cell_type": "code",
   "execution_count": 163,
   "metadata": {},
   "outputs": [],
   "source": [
    "production = dict()"
   ]
  },
  {
   "cell_type": "code",
   "execution_count": 164,
   "metadata": {},
   "outputs": [],
   "source": [
    "\n",
    "for line in codigo_entrada.splitlines():\n",
    "    left = line.split('->')[0].strip() \n",
    "    right = line.split('->')[1].strip()\n",
    "\n",
    "    # print(f\"FIRST({left}) = \", end=\"\")\n",
    "    right\n",
    "    production[left] = []\n",
    "\n",
    "    for idx, right_part  in enumerate(right.split(\"|\")): \n",
    " \n",
    "        production[left].append(right_part.strip())\n",
    "    #     if idx > 0:\n",
    "    #         print(f\" + FIRST({right_part.strip()})\", end=\"\")\n",
    "    #     else:\n",
    "    #         print(f\"FIRST({right_part.strip()})\", end=\"\")        \n",
    "\n",
    "    # print(\"\")\n",
    "\n"
   ]
  },
  {
   "cell_type": "code",
   "execution_count": 165,
   "metadata": {},
   "outputs": [
    {
     "data": {
      "text/plain": [
       "{'S': ['ACB', 'CbB', 'Ba'],\n",
       " 'A': ['da', 'BC'],\n",
       " 'B': ['g', 'λ'],\n",
       " 'C': ['h', 'λ']}"
      ]
     },
     "execution_count": 165,
     "metadata": {},
     "output_type": "execute_result"
    }
   ],
   "source": [
    "production"
   ]
  },
  {
   "cell_type": "code",
   "execution_count": 166,
   "metadata": {},
   "outputs": [],
   "source": [
    "## Criar dicionário de first\n",
    "first_dict = production.copy()\n",
    "follow_dict = production.copy()\n",
    "follow_position = production.copy()\n",
    "for elem in first_dict:\n",
    "    first_dict[elem] = []\n",
    "    follow_dict[elem] = []\n",
    "    follow_position[elem] = []"
   ]
  },
  {
   "cell_type": "code",
   "execution_count": 167,
   "metadata": {},
   "outputs": [
    {
     "data": {
      "text/plain": [
       "{'S': ['ACB', 'CbB', 'Ba'],\n",
       " 'A': ['da', 'BC'],\n",
       " 'B': ['g', 'λ'],\n",
       " 'C': ['h', 'λ']}"
      ]
     },
     "execution_count": 167,
     "metadata": {},
     "output_type": "execute_result"
    }
   ],
   "source": [
    "production"
   ]
  },
  {
   "cell_type": "code",
   "execution_count": 168,
   "metadata": {},
   "outputs": [
    {
     "data": {
      "text/plain": [
       "{'S': [], 'A': [], 'B': [], 'C': []}"
      ]
     },
     "execution_count": 168,
     "metadata": {},
     "output_type": "execute_result"
    }
   ],
   "source": [
    "first_dict"
   ]
  },
  {
   "cell_type": "code",
   "execution_count": 169,
   "metadata": {},
   "outputs": [
    {
     "data": {
      "text/plain": [
       "{'S': [], 'A': [], 'B': [], 'C': []}"
      ]
     },
     "execution_count": 169,
     "metadata": {},
     "output_type": "execute_result"
    }
   ],
   "source": [
    "follow_dict"
   ]
  },
  {
   "cell_type": "code",
   "execution_count": 170,
   "metadata": {},
   "outputs": [],
   "source": [
    "def merge_lists(elem1, elem2):\n",
    "    if type(elem1 != list):\n",
    "        elem1 = list(elem1)\n",
    "    if type(elem2 != list):\n",
    "        elem2 = list(elem2)\n",
    "    return list(set(elem1 + elem2))"
   ]
  },
  {
   "cell_type": "code",
   "execution_count": 171,
   "metadata": {},
   "outputs": [],
   "source": [
    "lista_first_por_elem = []\n",
    "\n",
    "def first_set(key):\n",
    "    ### Checar se já existe no dicionário \n",
    "    \n",
    "    resultado = []\n",
    "\n",
    "    if len(key) == 1 and key in variaveis_nao_terminais:\n",
    "        if (len(first_dict[key]) != 0):\n",
    "            return first_dict[key]\n",
    "            \n",
    "        value = production[key]\n",
    "    else:\n",
    "        value = [key]  \n",
    "\n",
    "    for elem in value:\n",
    "        saida = []\n",
    "        if (len(elem) == 1 and elem == key):\n",
    "            saida = []\n",
    "        if elem == 'λ':\n",
    "            saida = 'λ'\n",
    "        if elem[0] in variaveis_terminais:\n",
    "            saida = elem[0]\n",
    "        if elem[0] in variaveis_nao_terminais:\n",
    "            if (len(first_dict[elem[0]]) != 0 ):\n",
    "                check = first_dict[elem[0]]\n",
    "            else:\n",
    "                check = first_set(elem[0])\n",
    "            ### CHecar se o first já foi calculado FIRST T\n",
    "            if 'λ' not in check:\n",
    "                saida = first_dict[elem[0]]\n",
    "            else:       \n",
    "                if(len(elem) > 1):\n",
    "                    lista_sem_vazio =  [value for value in first_dict[elem[0]] if value != 'λ']\n",
    "                    \n",
    "                    if (elem[1:] == variavel_da_vez):\n",
    "                        saida = lista_sem_vazio\n",
    "                    else:\n",
    "                        # saida = lista_sem_vazio.append(first_set(elem[1:]))\n",
    "                        saida = merge_lists(lista_sem_vazio, first_set(elem[1:]))\n",
    "                else:\n",
    "                    saida = first_dict[elem[0]]\n",
    "        \n",
    "        # resultado.append(saida)\n",
    "        resultado = merge_lists(resultado,saida)\n",
    "        lista_first_por_elem.append([key,elem,saida])\n",
    "      \n",
    "    first_dict[key] = resultado\n",
    "    return resultado\n"
   ]
  },
  {
   "cell_type": "code",
   "execution_count": 172,
   "metadata": {},
   "outputs": [],
   "source": [
    "for variavel in production:\n",
    "    variavel_da_vez = variavel\n",
    "    try:\n",
    "        first_set(variavel)\n",
    "    except Exception as e:\n",
    "        print(\"Erro First: \", e)\n",
    "        print(\"Variável: \", variavel_da_vez)\n"
   ]
  },
  {
   "cell_type": "code",
   "execution_count": 173,
   "metadata": {},
   "outputs": [
    {
     "data": {
      "text/plain": [
       "{'S': ['ACB', 'CbB', 'Ba'],\n",
       " 'A': ['da', 'BC'],\n",
       " 'B': ['g', 'λ'],\n",
       " 'C': ['h', 'λ']}"
      ]
     },
     "execution_count": 173,
     "metadata": {},
     "output_type": "execute_result"
    }
   ],
   "source": [
    "production"
   ]
  },
  {
   "cell_type": "code",
   "execution_count": 174,
   "metadata": {},
   "outputs": [
    {
     "data": {
      "text/plain": [
       "{'S': [], 'A': [], 'B': [], 'C': []}"
      ]
     },
     "execution_count": 174,
     "metadata": {},
     "output_type": "execute_result"
    }
   ],
   "source": [
    "follow_dict"
   ]
  },
  {
   "cell_type": "code",
   "execution_count": 175,
   "metadata": {},
   "outputs": [],
   "source": [
    "lista_follow_por_elem = []\n",
    "\n",
    "def follow_set(key):\n",
    "  resultado = []\n",
    "  ### Achar elemento que contem key\n",
    "  for chave, valor in production.items():\n",
    "    for elem in valor:\n",
    "      saida = []\n",
    "      if key == simbolo_inicial:\n",
    "          saida = \"$\"\n",
    "      if key in elem:\n",
    "        ### Achou elemento que possui a key     \n",
    "        ### Se elemento estiver na posição final    \n",
    "        indice = elem.index(key)\n",
    "\n",
    "        palavra_restante = elem[indice + 1:]\n",
    "\n",
    "        if palavra_restante == '':\n",
    "            \n",
    "          if checar_dictionario(chave,follow_dict):\n",
    "                saida = follow_dict[chave]\n",
    "          else:\n",
    "            if key == chave:\n",
    "                saida = [] \n",
    "            else:\n",
    "                if key == simbolo_inicial:\n",
    "                    saida = '$'\n",
    "                else:\n",
    "                    saida = follow_set(chave)\n",
    "        else:\n",
    "            if checar_dictionario(palavra_restante,first_dict):\n",
    "                saida = first_dict[palavra_restante]\n",
    "            else:\n",
    "                saida = first_set(palavra_restante)\n",
    "\n",
    "\n",
    "      resultado = merge_lists(resultado,saida)     \n",
    "      if 'λ' in resultado: \n",
    "          resultado.remove('λ')\n",
    "          resultado = merge_lists(resultado,follow_set(chave))\n",
    "    follow_dict[key] = resultado\n",
    "           \n",
    "\n",
    "  follow_dict[key] = resultado\n",
    "  lista_follow_por_elem.append([key,elem,saida])\n",
    "  \n",
    "  return resultado"
   ]
  },
  {
   "cell_type": "code",
   "execution_count": 176,
   "metadata": {},
   "outputs": [],
   "source": [
    "for variavel in production:\n",
    "    variavel_da_vez = variavel\n",
    "    try:\n",
    "        follow_set(variavel)\n",
    "    except Exception as e:\n",
    "        print(\"Erro Follow: \", e)\n",
    "        print(\"Variável: \", variavel_da_vez)"
   ]
  },
  {
   "cell_type": "code",
   "execution_count": 177,
   "metadata": {},
   "outputs": [],
   "source": [
    "# print_dict(follow_dict)"
   ]
  },
  {
   "cell_type": "code",
   "execution_count": 178,
   "metadata": {},
   "outputs": [],
   "source": [
    "# print_dict(first_dict)"
   ]
  },
  {
   "cell_type": "code",
   "execution_count": 179,
   "metadata": {},
   "outputs": [
    {
     "data": {
      "text/plain": [
       "[['g', 'λ', 'h'], ['b'], ['a']]"
      ]
     },
     "execution_count": 179,
     "metadata": {},
     "output_type": "execute_result"
    }
   ],
   "source": [
    "### Remover chaves de tamanho maior que um\n",
    "\n",
    "lista_chaves_desnecessarias = [key for key in first_dict if len(key) > 1 or key in variaveis_terminais]\n",
    "[first_dict.pop(key) for key in lista_chaves_desnecessarias]\n"
   ]
  },
  {
   "cell_type": "code",
   "execution_count": 180,
   "metadata": {},
   "outputs": [],
   "source": [
    "df = pd.DataFrame(columns=['Variavel', 'Producao', 'First', 'Follow'])"
   ]
  },
  {
   "cell_type": "code",
   "execution_count": 181,
   "metadata": {},
   "outputs": [],
   "source": [
    "df[\"Variavel\"] = variaveis_nao_terminais"
   ]
  },
  {
   "cell_type": "code",
   "execution_count": 182,
   "metadata": {},
   "outputs": [],
   "source": [
    "def listToString(list):\n",
    "    str = '{'\n",
    "    for elem in list:\n",
    "        str = str + elem + ','\n",
    "\n",
    "    str = str[:-1] + '}'\n",
    "    return str\n"
   ]
  },
  {
   "cell_type": "code",
   "execution_count": 183,
   "metadata": {},
   "outputs": [],
   "source": [
    "for key, value in production.items():\n",
    "    df.loc[df['Variavel'] == key, 'Producao'] = listToString(value)"
   ]
  },
  {
   "cell_type": "code",
   "execution_count": 184,
   "metadata": {},
   "outputs": [],
   "source": [
    "for key, value in first_dict.items():\n",
    "    df.loc[df['Variavel'] == key, 'First'] = listToString(value)"
   ]
  },
  {
   "cell_type": "code",
   "execution_count": 185,
   "metadata": {},
   "outputs": [],
   "source": [
    "for key, value in follow_dict.items():\n",
    "    df.loc[df['Variavel'] == key, 'Follow'] = listToString(value)"
   ]
  },
  {
   "cell_type": "code",
   "execution_count": 186,
   "metadata": {},
   "outputs": [],
   "source": [
    "nome_arquivo_saida = f'lib/output/first_follow/{file_name[:-3]}csv'\n",
    "try:\n",
    "    df.to_csv(nome_arquivo_saida, index = False)\n",
    "except:\n",
    "    print(\"Não pode salvar aquivo de saída\")"
   ]
  },
  {
   "cell_type": "code",
   "execution_count": 187,
   "metadata": {},
   "outputs": [
    {
     "data": {
      "text/html": [
       "<div>\n",
       "<style scoped>\n",
       "    .dataframe tbody tr th:only-of-type {\n",
       "        vertical-align: middle;\n",
       "    }\n",
       "\n",
       "    .dataframe tbody tr th {\n",
       "        vertical-align: top;\n",
       "    }\n",
       "\n",
       "    .dataframe thead th {\n",
       "        text-align: right;\n",
       "    }\n",
       "</style>\n",
       "<table border=\"1\" class=\"dataframe\">\n",
       "  <thead>\n",
       "    <tr style=\"text-align: right;\">\n",
       "      <th></th>\n",
       "      <th>Variavel</th>\n",
       "      <th>Producao</th>\n",
       "      <th>First</th>\n",
       "      <th>Follow</th>\n",
       "    </tr>\n",
       "  </thead>\n",
       "  <tbody>\n",
       "    <tr>\n",
       "      <th>0</th>\n",
       "      <td>S</td>\n",
       "      <td>{ACB,CbB,Ba}</td>\n",
       "      <td>{b,h,g,d,λ,a}</td>\n",
       "      <td>{$}</td>\n",
       "    </tr>\n",
       "    <tr>\n",
       "      <th>1</th>\n",
       "      <td>A</td>\n",
       "      <td>{da,BC}</td>\n",
       "      <td>{d,g,λ,h}</td>\n",
       "      <td>{$,g,h}</td>\n",
       "    </tr>\n",
       "    <tr>\n",
       "      <th>2</th>\n",
       "      <td>B</td>\n",
       "      <td>{g,λ}</td>\n",
       "      <td>{g,λ}</td>\n",
       "      <td>{$,g,a,h}</td>\n",
       "    </tr>\n",
       "    <tr>\n",
       "      <th>3</th>\n",
       "      <td>C</td>\n",
       "      <td>{h,λ}</td>\n",
       "      <td>{h,λ}</td>\n",
       "      <td>{$,g,h,b}</td>\n",
       "    </tr>\n",
       "  </tbody>\n",
       "</table>\n",
       "</div>"
      ],
      "text/plain": [
       "  Variavel      Producao          First     Follow\n",
       "0        S  {ACB,CbB,Ba}  {b,h,g,d,λ,a}        {$}\n",
       "1        A       {da,BC}      {d,g,λ,h}    {$,g,h}\n",
       "2        B         {g,λ}          {g,λ}  {$,g,a,h}\n",
       "3        C         {h,λ}          {h,λ}  {$,g,h,b}"
      ]
     },
     "execution_count": 187,
     "metadata": {},
     "output_type": "execute_result"
    }
   ],
   "source": [
    "df"
   ]
  },
  {
   "cell_type": "markdown",
   "metadata": {},
   "source": [
    "#### Primeira Tabela Resultante"
   ]
  },
  {
   "cell_type": "code",
   "execution_count": 188,
   "metadata": {},
   "outputs": [],
   "source": [
    "colunas = variaveis_terminais.copy()\n",
    "colunas.insert(0,'M(V,T)')"
   ]
  },
  {
   "cell_type": "code",
   "execution_count": 189,
   "metadata": {},
   "outputs": [],
   "source": [
    "df_1 = pd.DataFrame(columns=colunas)\n",
    "df_1['M(V,T)'] = variaveis_nao_terminais\n",
    "df_1.index = df_1['M(V,T)']"
   ]
  },
  {
   "cell_type": "code",
   "execution_count": 190,
   "metadata": {},
   "outputs": [
    {
     "data": {
      "text/html": [
       "<div>\n",
       "<style scoped>\n",
       "    .dataframe tbody tr th:only-of-type {\n",
       "        vertical-align: middle;\n",
       "    }\n",
       "\n",
       "    .dataframe tbody tr th {\n",
       "        vertical-align: top;\n",
       "    }\n",
       "\n",
       "    .dataframe thead th {\n",
       "        text-align: right;\n",
       "    }\n",
       "</style>\n",
       "<table border=\"1\" class=\"dataframe\">\n",
       "  <thead>\n",
       "    <tr style=\"text-align: right;\">\n",
       "      <th></th>\n",
       "      <th>M(V,T)</th>\n",
       "      <th>b</th>\n",
       "      <th>a</th>\n",
       "      <th>d</th>\n",
       "      <th>g</th>\n",
       "      <th>h</th>\n",
       "    </tr>\n",
       "    <tr>\n",
       "      <th>M(V,T)</th>\n",
       "      <th></th>\n",
       "      <th></th>\n",
       "      <th></th>\n",
       "      <th></th>\n",
       "      <th></th>\n",
       "      <th></th>\n",
       "    </tr>\n",
       "  </thead>\n",
       "  <tbody>\n",
       "    <tr>\n",
       "      <th>S</th>\n",
       "      <td>S</td>\n",
       "      <td>NaN</td>\n",
       "      <td>NaN</td>\n",
       "      <td>NaN</td>\n",
       "      <td>NaN</td>\n",
       "      <td>NaN</td>\n",
       "    </tr>\n",
       "    <tr>\n",
       "      <th>A</th>\n",
       "      <td>A</td>\n",
       "      <td>NaN</td>\n",
       "      <td>NaN</td>\n",
       "      <td>NaN</td>\n",
       "      <td>NaN</td>\n",
       "      <td>NaN</td>\n",
       "    </tr>\n",
       "    <tr>\n",
       "      <th>B</th>\n",
       "      <td>B</td>\n",
       "      <td>NaN</td>\n",
       "      <td>NaN</td>\n",
       "      <td>NaN</td>\n",
       "      <td>NaN</td>\n",
       "      <td>NaN</td>\n",
       "    </tr>\n",
       "    <tr>\n",
       "      <th>C</th>\n",
       "      <td>C</td>\n",
       "      <td>NaN</td>\n",
       "      <td>NaN</td>\n",
       "      <td>NaN</td>\n",
       "      <td>NaN</td>\n",
       "      <td>NaN</td>\n",
       "    </tr>\n",
       "  </tbody>\n",
       "</table>\n",
       "</div>"
      ],
      "text/plain": [
       "       M(V,T)    b    a    d    g    h\n",
       "M(V,T)                                \n",
       "S           S  NaN  NaN  NaN  NaN  NaN\n",
       "A           A  NaN  NaN  NaN  NaN  NaN\n",
       "B           B  NaN  NaN  NaN  NaN  NaN\n",
       "C           C  NaN  NaN  NaN  NaN  NaN"
      ]
     },
     "execution_count": 190,
     "metadata": {},
     "output_type": "execute_result"
    }
   ],
   "source": [
    "df_1"
   ]
  },
  {
   "cell_type": "code",
   "execution_count": 191,
   "metadata": {},
   "outputs": [
    {
     "name": "stdout",
     "output_type": "stream",
     "text": [
      "Produção:\n",
      "S : {ACB,CbB,Ba}\n",
      "A : {da,BC}\n",
      "B : {g,λ}\n",
      "C : {h,λ}\n"
     ]
    }
   ],
   "source": [
    "print('Produção:')\n",
    "print_dict(production)"
   ]
  },
  {
   "cell_type": "code",
   "execution_count": 192,
   "metadata": {},
   "outputs": [],
   "source": [
    "### Todos as produções vão para seu FIRST\n",
    "### As Vazio vão para o follow"
   ]
  },
  {
   "cell_type": "code",
   "execution_count": 193,
   "metadata": {},
   "outputs": [],
   "source": [
    "### Tratar casos onde a produção é vazia -> Usar elementos do follow\n",
    "lista_ajustes = []\n",
    "\n",
    "for row in lista_first_por_elem:\n",
    "    if 'λ' in row[1]:\n",
    "        lista_follow = follow_set(row[0])\n",
    "        lista_follow = [elem for elem in lista_follow if elem not in first_dict[row[0]]]\n",
    "        lista = merge_lists(row[2],lista_follow)        \n",
    "        row[2] = [elem for elem in lista if elem != 'λ']\n",
    "    else:\n",
    "        if 'λ' in row[2]:\n",
    "            lista_follow = follow_set(row[0])\n",
    "            lista_follow = [elem for elem in lista_follow if elem not in first_dict[row[0]]]\n",
    "            lista = merge_lists(row[2],lista_follow)        \n",
    "            row[2] = [elem for elem in lista if elem != 'λ']\n",
    "            lista_ajustes.append([row[0],row[2]])\n",
    "        \n",
    "\n",
    "### Eliminar Variaves Não Terminais Erradas\n",
    "\n",
    "lista_table = [elem for elem in lista_first_por_elem if elem[0] in variaveis_nao_terminais]\n",
    "lista_ajustes = [elem for elem in lista_ajustes if elem[0] in variaveis_nao_terminais]"
   ]
  },
  {
   "cell_type": "code",
   "execution_count": 194,
   "metadata": {},
   "outputs": [],
   "source": [
    "### Tentando deixar como prioridade os elementos que geram vazio\n",
    "\n",
    "dicionario_ajustes = dict(lista_ajustes)\n",
    "\n",
    "for elem in lista_table:\n",
    "    for coluna in elem[2]:\n",
    "        if elem[0] in dicionario_ajustes.keys():\n",
    "            if elem[2] != dicionario_ajustes[elem[0]]:\n",
    "                [elem[2].remove(remov) for remov in elem[2] if remov in dicionario_ajustes[elem[0]]] "
   ]
  },
  {
   "cell_type": "code",
   "execution_count": 195,
   "metadata": {},
   "outputs": [],
   "source": [
    "## Adicionando elementos na tabela\n",
    "\n",
    "for elem in lista_table:\n",
    "    for coluna in elem[2]:\n",
    "        df_1.loc[elem[0], coluna] = elem[0] + \"->\" + elem[1]\n",
    "    "
   ]
  },
  {
   "cell_type": "code",
   "execution_count": 196,
   "metadata": {},
   "outputs": [
    {
     "data": {
      "text/html": [
       "<div>\n",
       "<style scoped>\n",
       "    .dataframe tbody tr th:only-of-type {\n",
       "        vertical-align: middle;\n",
       "    }\n",
       "\n",
       "    .dataframe tbody tr th {\n",
       "        vertical-align: top;\n",
       "    }\n",
       "\n",
       "    .dataframe thead th {\n",
       "        text-align: right;\n",
       "    }\n",
       "</style>\n",
       "<table border=\"1\" class=\"dataframe\">\n",
       "  <thead>\n",
       "    <tr style=\"text-align: right;\">\n",
       "      <th></th>\n",
       "      <th>M(V,T)</th>\n",
       "      <th>b</th>\n",
       "      <th>a</th>\n",
       "      <th>d</th>\n",
       "      <th>g</th>\n",
       "      <th>h</th>\n",
       "      <th>$</th>\n",
       "    </tr>\n",
       "    <tr>\n",
       "      <th>M(V,T)</th>\n",
       "      <th></th>\n",
       "      <th></th>\n",
       "      <th></th>\n",
       "      <th></th>\n",
       "      <th></th>\n",
       "      <th></th>\n",
       "      <th></th>\n",
       "    </tr>\n",
       "  </thead>\n",
       "  <tbody>\n",
       "    <tr>\n",
       "      <th>S</th>\n",
       "      <td>S</td>\n",
       "      <td>S-&gt;CbB</td>\n",
       "      <td>S-&gt;Ba</td>\n",
       "      <td>S-&gt;ACB</td>\n",
       "      <td>S-&gt;ACB</td>\n",
       "      <td>S-&gt;ACB</td>\n",
       "      <td>S-&gt;ACB</td>\n",
       "    </tr>\n",
       "    <tr>\n",
       "      <th>A</th>\n",
       "      <td>A</td>\n",
       "      <td>-</td>\n",
       "      <td>-</td>\n",
       "      <td>A-&gt;da</td>\n",
       "      <td>A-&gt;BC</td>\n",
       "      <td>A-&gt;BC</td>\n",
       "      <td>A-&gt;BC</td>\n",
       "    </tr>\n",
       "    <tr>\n",
       "      <th>B</th>\n",
       "      <td>B</td>\n",
       "      <td>-</td>\n",
       "      <td>B-&gt;λ</td>\n",
       "      <td>-</td>\n",
       "      <td>B-&gt;g</td>\n",
       "      <td>B-&gt;λ</td>\n",
       "      <td>B-&gt;λ</td>\n",
       "    </tr>\n",
       "    <tr>\n",
       "      <th>C</th>\n",
       "      <td>C</td>\n",
       "      <td>C-&gt;λ</td>\n",
       "      <td>-</td>\n",
       "      <td>-</td>\n",
       "      <td>C-&gt;λ</td>\n",
       "      <td>C-&gt;h</td>\n",
       "      <td>C-&gt;λ</td>\n",
       "    </tr>\n",
       "  </tbody>\n",
       "</table>\n",
       "</div>"
      ],
      "text/plain": [
       "       M(V,T)       b      a       d       g       h       $\n",
       "M(V,T)                                                      \n",
       "S           S  S->CbB  S->Ba  S->ACB  S->ACB  S->ACB  S->ACB\n",
       "A           A       -      -   A->da   A->BC   A->BC   A->BC\n",
       "B           B       -   B->λ       -    B->g    B->λ    B->λ\n",
       "C           C    C->λ      -       -    C->λ    C->h    C->λ"
      ]
     },
     "execution_count": 196,
     "metadata": {},
     "output_type": "execute_result"
    }
   ],
   "source": [
    "### Formatar\n",
    "\n",
    "df_1 = df_1.fillna('-')\n",
    "df_1"
   ]
  },
  {
   "cell_type": "code",
   "execution_count": 197,
   "metadata": {},
   "outputs": [
    {
     "name": "stdout",
     "output_type": "stream",
     "text": [
      "Tabela Preditiva Gerada\n"
     ]
    }
   ],
   "source": [
    "nome_arquivo_saida = f'lib/output/predictive_table/{file_name[:-3]}csv'\n",
    "try:\n",
    "    df_1.to_csv(nome_arquivo_saida, index = False)\n",
    "    print('Tabela Preditiva Gerada')\n",
    "except:\n",
    "    print(\"Não pode salvar aquivo de saída\")"
   ]
  },
  {
   "cell_type": "code",
   "execution_count": 198,
   "metadata": {},
   "outputs": [],
   "source": [
    "alfabeto = merge_lists(df_1.index,df_1.columns)\n",
    "alfabeto = merge_lists(alfabeto,'$') "
   ]
  },
  {
   "cell_type": "code",
   "execution_count": 199,
   "metadata": {},
   "outputs": [],
   "source": [
    "#### Tabela de Verificação\n",
    "palavra = 'x + x * x'\n",
    "palavra = palavra.replace(\" \",\"\")\n",
    "\n",
    "file_path_test = \"lib/input/test_words/\"\n",
    "\n",
    "try:\n",
    "    palavra = open(file_path_test + file_name, \"r\", encoding=\"utf8\").read()\n",
    "    palavra = palavra.replace(\" \",\"\")\n",
    "except:\n",
    "    palavra = \"\"\"aab\"\"\"\n"
   ]
  },
  {
   "cell_type": "code",
   "execution_count": 200,
   "metadata": {},
   "outputs": [],
   "source": [
    "def juntar_lista(lista):\n",
    "    saida = ''\n",
    "    for elem in lista:\n",
    "        saida = saida + elem\n",
    "    return saida"
   ]
  },
  {
   "cell_type": "code",
   "execution_count": 201,
   "metadata": {},
   "outputs": [
    {
     "data": {
      "text/html": [
       "<div>\n",
       "<style scoped>\n",
       "    .dataframe tbody tr th:only-of-type {\n",
       "        vertical-align: middle;\n",
       "    }\n",
       "\n",
       "    .dataframe tbody tr th {\n",
       "        vertical-align: top;\n",
       "    }\n",
       "\n",
       "    .dataframe thead th {\n",
       "        text-align: right;\n",
       "    }\n",
       "</style>\n",
       "<table border=\"1\" class=\"dataframe\">\n",
       "  <thead>\n",
       "    <tr style=\"text-align: right;\">\n",
       "      <th></th>\n",
       "      <th>Pilha</th>\n",
       "      <th>Entrada</th>\n",
       "      <th>Producao</th>\n",
       "    </tr>\n",
       "  </thead>\n",
       "  <tbody>\n",
       "    <tr>\n",
       "      <th>0</th>\n",
       "      <td>$</td>\n",
       "      <td>$</td>\n",
       "      <td>S</td>\n",
       "    </tr>\n",
       "    <tr>\n",
       "      <th>1</th>\n",
       "      <td>$S</td>\n",
       "      <td>dahg$</td>\n",
       "      <td>S-&gt;ACB</td>\n",
       "    </tr>\n",
       "    <tr>\n",
       "      <th>2</th>\n",
       "      <td>$BCA</td>\n",
       "      <td>dahg$</td>\n",
       "      <td>A-&gt;da</td>\n",
       "    </tr>\n",
       "    <tr>\n",
       "      <th>3</th>\n",
       "      <td>$BCad</td>\n",
       "      <td>dahg$</td>\n",
       "      <td></td>\n",
       "    </tr>\n",
       "    <tr>\n",
       "      <th>4</th>\n",
       "      <td>$BCa</td>\n",
       "      <td>ahg$</td>\n",
       "      <td></td>\n",
       "    </tr>\n",
       "    <tr>\n",
       "      <th>5</th>\n",
       "      <td>$BC</td>\n",
       "      <td>hg$</td>\n",
       "      <td>C-&gt;h</td>\n",
       "    </tr>\n",
       "    <tr>\n",
       "      <th>6</th>\n",
       "      <td>$Bh</td>\n",
       "      <td>hg$</td>\n",
       "      <td></td>\n",
       "    </tr>\n",
       "    <tr>\n",
       "      <th>7</th>\n",
       "      <td>$B</td>\n",
       "      <td>g$</td>\n",
       "      <td>B-&gt;g</td>\n",
       "    </tr>\n",
       "    <tr>\n",
       "      <th>8</th>\n",
       "      <td>$g</td>\n",
       "      <td>g$</td>\n",
       "      <td></td>\n",
       "    </tr>\n",
       "    <tr>\n",
       "      <th>9</th>\n",
       "      <td>$</td>\n",
       "      <td>$</td>\n",
       "      <td></td>\n",
       "    </tr>\n",
       "  </tbody>\n",
       "</table>\n",
       "</div>"
      ],
      "text/plain": [
       "   Pilha Entrada Producao\n",
       "0      $       $        S\n",
       "1     $S   dahg$   S->ACB\n",
       "2   $BCA   dahg$    A->da\n",
       "3  $BCad   dahg$         \n",
       "4   $BCa    ahg$         \n",
       "5    $BC     hg$     C->h\n",
       "6    $Bh     hg$         \n",
       "7     $B      g$     B->g\n",
       "8     $g      g$         \n",
       "9      $       $         "
      ]
     },
     "execution_count": 201,
     "metadata": {},
     "output_type": "execute_result"
    }
   ],
   "source": [
    "\n",
    "df_2 = pd.DataFrame(columns=['Pilha','Entrada','Producao'])\n",
    "\n",
    "lista_pilha= ['$']\n",
    "lista_entrada = ['$']\n",
    "\n",
    "df_2.loc[0] = [juntar_lista(lista_pilha),juntar_lista(lista_entrada),simbolo_inicial]\n",
    "\n",
    "\n",
    "### Colocar Produção da linha passada na pilha\n",
    "producao = simbolo_inicial\n",
    "eliminado = lista_pilha[-1]\n",
    "\n",
    "nova_entrada = palavra\n",
    "[lista_entrada.insert(len(lista_entrada) - 1, elem) for elem in nova_entrada]\n",
    "\n",
    "for i in range(1,50):\n",
    "\n",
    "    nova_pilha = producao.split('->')[-1].replace(\" \",\"\") \n",
    "\n",
    "    if nova_pilha == 'λ':\n",
    "        nova_pilha = ''\n",
    "\n",
    "    [lista_pilha.insert(len(lista_pilha), elem) for elem in nova_pilha[::-1]]    \n",
    "\n",
    "    if len(lista_pilha) == 0:\n",
    "        break\n",
    "\n",
    "    elemento_analisado = lista_pilha[-1]\n",
    "    elemento_entrada = lista_entrada[0]\n",
    "\n",
    "    if elemento_entrada not in alfabeto:\n",
    "        print('Elemento não corresponde ao Alfabeto')\n",
    "        break\n",
    "\n",
    "    pop_entrada = False\n",
    "    if (elemento_analisado == elemento_entrada): \n",
    "        pop_entrada = True    \n",
    "        elemento_entrada = lista_entrada[0]\n",
    "        if elemento_analisado in variaveis_nao_terminais:        \n",
    "            producao = df_1.loc[elemento_analisado][elemento_entrada]\n",
    "        else:\n",
    "            producao = ''    \n",
    "    else:\n",
    "        if (elemento_analisado in variaveis_nao_terminais):\n",
    "           producao = df_1.loc[elemento_analisado][elemento_entrada]\n",
    "        else:\n",
    "            df_2.loc[i] = [juntar_lista(lista_pilha),juntar_lista(lista_entrada),producao]\n",
    "            print(\"Não foi possível realizar a palavra, pilha não possui não-terminais\")\n",
    "            break\n",
    "        if (len(producao) == 1):\n",
    "            df_2.loc[i] = [juntar_lista(lista_pilha),juntar_lista(lista_entrada),producao]\n",
    "            print(\"Não foi possível realizar a palavra, não há producão que gere entrada\")\n",
    "            break\n",
    "\n",
    "    df_2.loc[i] = [juntar_lista(lista_pilha),juntar_lista(lista_entrada),producao]\n",
    "\n",
    "    if pop_entrada: lista_entrada.pop(0)\n",
    "    eliminado = lista_pilha.pop()\n",
    "\n",
    "\n",
    "\n",
    "\n",
    "df_2"
   ]
  },
  {
   "cell_type": "code",
   "execution_count": 202,
   "metadata": {},
   "outputs": [
    {
     "name": "stdout",
     "output_type": "stream",
     "text": [
      "Tabela de Testes Gerada\n"
     ]
    }
   ],
   "source": [
    "nome_arquivo_saida = f'lib/output/test_table/{file_name[:-3]}csv'\n",
    "try:\n",
    "    df_2.to_csv(nome_arquivo_saida, index = False)\n",
    "    print('Tabela de Testes Gerada')\n",
    "except:\n",
    "    print(\"Não pode salvar aquivo de saída\")"
   ]
  },
  {
   "cell_type": "code",
   "execution_count": 203,
   "metadata": {},
   "outputs": [],
   "source": [
    "### Gerar documento de saida"
   ]
  },
  {
   "cell_type": "code",
   "execution_count": 204,
   "metadata": {},
   "outputs": [],
   "source": [
    "import datetime\n",
    "data_atual = datetime.datetime.now().strftime(\"%d/%m/%Y, %H:%M:%S\")"
   ]
  },
  {
   "cell_type": "code",
   "execution_count": 205,
   "metadata": {},
   "outputs": [
    {
     "data": {
      "text/html": [
       "<div>\n",
       "<style scoped>\n",
       "    .dataframe tbody tr th:only-of-type {\n",
       "        vertical-align: middle;\n",
       "    }\n",
       "\n",
       "    .dataframe tbody tr th {\n",
       "        vertical-align: top;\n",
       "    }\n",
       "\n",
       "    .dataframe thead th {\n",
       "        text-align: right;\n",
       "    }\n",
       "</style>\n",
       "<table border=\"1\" class=\"dataframe\">\n",
       "  <thead>\n",
       "    <tr style=\"text-align: right;\">\n",
       "      <th></th>\n",
       "      <th>Variavel</th>\n",
       "      <th>Producao</th>\n",
       "      <th>First</th>\n",
       "      <th>Follow</th>\n",
       "    </tr>\n",
       "  </thead>\n",
       "  <tbody>\n",
       "    <tr>\n",
       "      <th>0</th>\n",
       "      <td>S</td>\n",
       "      <td>{ACB,CbB,Ba}</td>\n",
       "      <td>{b,h,g,d,λ,a}</td>\n",
       "      <td>{$}</td>\n",
       "    </tr>\n",
       "    <tr>\n",
       "      <th>1</th>\n",
       "      <td>A</td>\n",
       "      <td>{da,BC}</td>\n",
       "      <td>{d,g,λ,h}</td>\n",
       "      <td>{$,g,h}</td>\n",
       "    </tr>\n",
       "    <tr>\n",
       "      <th>2</th>\n",
       "      <td>B</td>\n",
       "      <td>{g,λ}</td>\n",
       "      <td>{g,λ}</td>\n",
       "      <td>{$,g,a,h}</td>\n",
       "    </tr>\n",
       "    <tr>\n",
       "      <th>3</th>\n",
       "      <td>C</td>\n",
       "      <td>{h,λ}</td>\n",
       "      <td>{h,λ}</td>\n",
       "      <td>{$,g,h,b}</td>\n",
       "    </tr>\n",
       "  </tbody>\n",
       "</table>\n",
       "</div>"
      ],
      "text/plain": [
       "  Variavel      Producao          First     Follow\n",
       "0        S  {ACB,CbB,Ba}  {b,h,g,d,λ,a}        {$}\n",
       "1        A       {da,BC}      {d,g,λ,h}    {$,g,h}\n",
       "2        B         {g,λ}          {g,λ}  {$,g,a,h}\n",
       "3        C         {h,λ}          {h,λ}  {$,g,h,b}"
      ]
     },
     "execution_count": 205,
     "metadata": {},
     "output_type": "execute_result"
    }
   ],
   "source": [
    "df"
   ]
  },
  {
   "cell_type": "code",
   "execution_count": 207,
   "metadata": {},
   "outputs": [
    {
     "data": {
      "text/plain": [
       "4"
      ]
     },
     "execution_count": 207,
     "metadata": {},
     "output_type": "execute_result"
    }
   ],
   "source": [
    "len(df.columns)"
   ]
  },
  {
   "cell_type": "code",
   "execution_count": 210,
   "metadata": {},
   "outputs": [
    {
     "name": "stdout",
     "output_type": "stream",
     "text": [
      "0 Variavel\n",
      "1 Producao\n",
      "2 First\n",
      "3 Follow\n"
     ]
    }
   ],
   "source": [
    "for idx, coluna in enumerate(df.columns):\n",
    "    print(idx, coluna)"
   ]
  },
  {
   "cell_type": "code",
   "execution_count": 209,
   "metadata": {},
   "outputs": [
    {
     "data": {
      "text/plain": [
       "range(0, 4)"
      ]
     },
     "execution_count": 209,
     "metadata": {},
     "output_type": "execute_result"
    }
   ],
   "source": [
    "range(0,len(df.columns))"
   ]
  },
  {
   "cell_type": "code",
   "execution_count": 214,
   "metadata": {},
   "outputs": [
    {
     "data": {
      "text/html": [
       "<div>\n",
       "<style scoped>\n",
       "    .dataframe tbody tr th:only-of-type {\n",
       "        vertical-align: middle;\n",
       "    }\n",
       "\n",
       "    .dataframe tbody tr th {\n",
       "        vertical-align: top;\n",
       "    }\n",
       "\n",
       "    .dataframe thead th {\n",
       "        text-align: right;\n",
       "    }\n",
       "</style>\n",
       "<table border=\"1\" class=\"dataframe\">\n",
       "  <thead>\n",
       "    <tr style=\"text-align: right;\">\n",
       "      <th></th>\n",
       "      <th>Variavel</th>\n",
       "      <th>Producao</th>\n",
       "      <th>First</th>\n",
       "      <th>Follow</th>\n",
       "    </tr>\n",
       "  </thead>\n",
       "  <tbody>\n",
       "    <tr>\n",
       "      <th>0</th>\n",
       "      <td>S</td>\n",
       "      <td>{ACB,CbB,Ba}</td>\n",
       "      <td>{b,h,g,d,λ,a}</td>\n",
       "      <td>{$}</td>\n",
       "    </tr>\n",
       "    <tr>\n",
       "      <th>1</th>\n",
       "      <td>A</td>\n",
       "      <td>{da,BC}</td>\n",
       "      <td>{d,g,λ,h}</td>\n",
       "      <td>{$,g,h}</td>\n",
       "    </tr>\n",
       "    <tr>\n",
       "      <th>2</th>\n",
       "      <td>B</td>\n",
       "      <td>{g,λ}</td>\n",
       "      <td>{g,λ}</td>\n",
       "      <td>{$,g,a,h}</td>\n",
       "    </tr>\n",
       "    <tr>\n",
       "      <th>3</th>\n",
       "      <td>C</td>\n",
       "      <td>{h,λ}</td>\n",
       "      <td>{h,λ}</td>\n",
       "      <td>{$,g,h,b}</td>\n",
       "    </tr>\n",
       "  </tbody>\n",
       "</table>\n",
       "</div>"
      ],
      "text/plain": [
       "  Variavel      Producao          First     Follow\n",
       "0        S  {ACB,CbB,Ba}  {b,h,g,d,λ,a}        {$}\n",
       "1        A       {da,BC}      {d,g,λ,h}    {$,g,h}\n",
       "2        B         {g,λ}          {g,λ}  {$,g,a,h}\n",
       "3        C         {h,λ}          {h,λ}  {$,g,h,b}"
      ]
     },
     "execution_count": 214,
     "metadata": {},
     "output_type": "execute_result"
    }
   ],
   "source": [
    "df"
   ]
  },
  {
   "cell_type": "code",
   "execution_count": null,
   "metadata": {},
   "outputs": [],
   "source": [
    "def criar_tabela(df):\n",
    "    ### Adicionar Tabela de First - Follow\n",
    "    table = doc.add_table(rows=1, cols=len(df.columns))\n",
    "\n",
    "    ### Indices\n",
    "    row = table.rows[0].cells\n",
    "    for idx, coluna in enumerate(df.columns):\n",
    "        row[idx].text = coluna\n",
    "\n",
    "    ### Valores\n",
    "\n",
    "    for index, linha in df.iterrows():\n",
    "        # Adding a row and then adding data in it.\n",
    "        row = table.add_row().cells\n",
    "\n",
    "        for idx, elem in enumerate(linha):\n",
    "            row[idx].text = elem"
   ]
  },
  {
   "cell_type": "code",
   "execution_count": 240,
   "metadata": {},
   "outputs": [],
   "source": [
    "# Import docx NOT python-docx\n",
    "import docx\n",
    "  \n",
    "# Create an instance of a word document\n",
    "doc = docx.Document()\n",
    "  \n",
    "# Add a Title to the document\n",
    "doc.add_heading('Relatório Tabela Preditiva', 0)\n",
    "doc.add_paragraph(f'Relatório Automático Gerado em {data_atual}')\n",
    "\n",
    "doc.add_heading(f'Entrada de Dados', 3)\n",
    "doc.add_paragraph(f'Codigo do arquivo: {file_name}')\n",
    "doc.add_paragraph(f'{codigo_entrada}')\n",
    "\n",
    "doc.add_heading('Tabela First - Follow', 3)\n",
    "criar_tabela(df)\n",
    "\n",
    "doc.add_heading('Tabela Preditiva', 3)\n",
    "criar_tabela(df_1)\n",
    "\n",
    "doc.add_heading('Tabela Teste', 3)\n",
    "doc.add_paragraph(f'Palavra de teste: {palavra}')\n",
    "criar_tabela(df_2)\n",
    "\n",
    "doc.save('report.docx')"
   ]
  },
  {
   "cell_type": "code",
   "execution_count": 237,
   "metadata": {},
   "outputs": [],
   "source": []
  },
  {
   "cell_type": "code",
   "execution_count": null,
   "metadata": {},
   "outputs": [],
   "source": []
  }
 ],
 "metadata": {
  "interpreter": {
   "hash": "e87665ec0a165f363d8cc3bca4f0bcbed11768be787550cb756e5633f85a0d65"
  },
  "kernelspec": {
   "display_name": "Python 3.8.5 ('base')",
   "language": "python",
   "name": "python3"
  },
  "language_info": {
   "codemirror_mode": {
    "name": "ipython",
    "version": 3
   },
   "file_extension": ".py",
   "mimetype": "text/x-python",
   "name": "python",
   "nbconvert_exporter": "python",
   "pygments_lexer": "ipython3",
   "version": "3.8.5"
  },
  "orig_nbformat": 4
 },
 "nbformat": 4,
 "nbformat_minor": 2
}
