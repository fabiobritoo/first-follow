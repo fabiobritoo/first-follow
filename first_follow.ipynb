{
 "cells": [
  {
   "cell_type": "markdown",
   "metadata": {},
   "source": [
    "### First Follow"
   ]
  },
  {
   "cell_type": "code",
   "execution_count": 1,
   "metadata": {},
   "outputs": [],
   "source": [
    "import os\n",
    "import pandas as pd\n",
    "import numpy as np"
   ]
  },
  {
   "cell_type": "code",
   "execution_count": 2,
   "metadata": {},
   "outputs": [],
   "source": [
    "def checar_dictionario(key, dict):\n",
    "    check = key in dict\n",
    "    if check:\n",
    "        if len(dict[key])>0:\n",
    "            return True\n",
    "    return False"
   ]
  },
  {
   "cell_type": "code",
   "execution_count": null,
   "metadata": {},
   "outputs": [],
   "source": []
  },
  {
   "cell_type": "code",
   "execution_count": 3,
   "metadata": {},
   "outputs": [],
   "source": [
    "file_path = \"lib/input/\"\n",
    "\n",
    "try:\n",
    "    file_name = file_name_externo\n",
    "except:\n",
    "    file_name = \"input_c.txt\"\n",
    "# file_name = \"example_1.txt\"\n",
    "try:\n",
    "    codigo_entrada = open(file_path + file_name, \"r\", encoding=\"utf8\").read()\n",
    "except:\n",
    "    codigo_entrada = \"\"\"S -> aSbc | D\n",
    "D -> dD | d\"\"\""
   ]
  },
  {
   "cell_type": "code",
   "execution_count": 4,
   "metadata": {},
   "outputs": [],
   "source": [
    "simbolo_inicial = codigo_entrada[0]"
   ]
  },
  {
   "cell_type": "code",
   "execution_count": 19,
   "metadata": {},
   "outputs": [],
   "source": [
    "codigo_entrada = codigo_entrada.replace('id','i')\n",
    "codigo_entrada = codigo_entrada.replace('num','n')\n",
    "codigo_entrada = codigo_entrada.replace(':=','=')"
   ]
  },
  {
   "cell_type": "code",
   "execution_count": 5,
   "metadata": {},
   "outputs": [],
   "source": [
    "import re"
   ]
  },
  {
   "cell_type": "code",
   "execution_count": 6,
   "metadata": {},
   "outputs": [
    {
     "data": {
      "text/plain": [
       "4"
      ]
     },
     "execution_count": 6,
     "metadata": {},
     "output_type": "execute_result"
    }
   ],
   "source": [
    "qtd_linhas = codigo_entrada.count(\"\\n\") + 1\n",
    "qtd_linhas"
   ]
  },
  {
   "cell_type": "code",
   "execution_count": 7,
   "metadata": {},
   "outputs": [
    {
     "data": {
      "text/plain": [
       "['n', 'u', 'd', ':', 'm', '=', '+', 'i']"
      ]
     },
     "execution_count": 7,
     "metadata": {},
     "output_type": "execute_result"
    }
   ],
   "source": [
    "### Encontrar\n",
    "regex_terminais = r\"[\\[\\]a-z+:=*-/;]\"\n",
    "matches = re.finditer(regex_terminais, codigo_entrada.replace(\"->\",\" \"), re.MULTILINE)\n",
    "variaveis = []\n",
    "for match in matches:\n",
    "    variaveis.append(match.group())\n",
    "\n",
    "variaveis_terminais = list(set(variaveis))\n",
    "\n",
    "variaveis_terminais"
   ]
  },
  {
   "cell_type": "code",
   "execution_count": 8,
   "metadata": {},
   "outputs": [],
   "source": [
    "### Adicionar num\n",
    "cond_num_1 = 'n' in variaveis_terminais\n",
    "cond_num_2 = 'u' in variaveis_terminais\n",
    "cond_num_3 = 'm' in variaveis_terminais\n",
    "\n",
    "if (cond_num_1 and cond_num_2 and cond_num_3):\n",
    "    variaveis_terminais.remove('n')\n",
    "    variaveis_terminais.remove('u')\n",
    "    variaveis_terminais.remove('m')\n",
    "    variaveis_terminais.append('n')\n",
    "\n",
    "### Adicionar id\n",
    "cond_id_1 = 'i' in variaveis_terminais\n",
    "cond_id_2 = 'd' in variaveis_terminais\n",
    "\n",
    "if (cond_id_1 and cond_id_2):\n",
    "    variaveis_terminais.remove('i')\n",
    "    variaveis_terminais.remove('d')\n",
    "    variaveis_terminais.append('i')\n",
    "\n",
    "### Adicionar :=\n",
    "cond_ponto_1 = ':' in variaveis_terminais\n",
    "cond_ponto_2 = '=' in variaveis_terminais\n",
    "\n",
    "if (cond_ponto_1 and cond_ponto_2):\n",
    "    variaveis_terminais.remove(':')\n",
    "    variaveis_terminais.remove('=')\n",
    "    variaveis_terminais.append('=')"
   ]
  },
  {
   "cell_type": "code",
   "execution_count": 9,
   "metadata": {},
   "outputs": [
    {
     "data": {
      "text/plain": [
       "['+', 'num', 'id', ':=']"
      ]
     },
     "execution_count": 9,
     "metadata": {},
     "output_type": "execute_result"
    }
   ],
   "source": [
    "variaveis_terminais"
   ]
  },
  {
   "cell_type": "code",
   "execution_count": null,
   "metadata": {},
   "outputs": [],
   "source": []
  },
  {
   "cell_type": "code",
   "execution_count": 10,
   "metadata": {},
   "outputs": [
    {
     "data": {
      "text/plain": [
       "['+', 'num', 'id', ':=']"
      ]
     },
     "execution_count": 10,
     "metadata": {},
     "output_type": "execute_result"
    }
   ],
   "source": [
    "variaveis_terminais"
   ]
  },
  {
   "cell_type": "code",
   "execution_count": 11,
   "metadata": {},
   "outputs": [
    {
     "data": {
      "text/plain": [
       "['S', 'X', 'E']"
      ]
     },
     "execution_count": 11,
     "metadata": {},
     "output_type": "execute_result"
    }
   ],
   "source": [
    "regex_nao_terminais = r\"[A-Z]\"\n",
    "matches = re.finditer(regex_nao_terminais, codigo_entrada.replace(\"->\",\" \"), re.MULTILINE)\n",
    "variaveis = []\n",
    "for match in matches:\n",
    "    variaveis.append(match.group())\n",
    "\n",
    "variaveis_nao_terminais = list(set(variaveis))\n",
    "variaveis_nao_terminais"
   ]
  },
  {
   "cell_type": "code",
   "execution_count": 12,
   "metadata": {},
   "outputs": [],
   "source": [
    "production = dict()"
   ]
  },
  {
   "cell_type": "code",
   "execution_count": 13,
   "metadata": {},
   "outputs": [],
   "source": [
    "\n",
    "for line in codigo_entrada.splitlines():\n",
    "    left = line.split('->')[0].strip() \n",
    "    right = line.split('->')[1].strip()\n",
    "\n",
    "    # print(f\"FIRST({left}) = \", end=\"\")\n",
    "    right\n",
    "    production[left] = []\n",
    "\n",
    "    for idx, right_part  in enumerate(right.split(\"|\")): \n",
    " \n",
    "        production[left].append(right_part.strip())\n",
    "    #     if idx > 0:\n",
    "    #         print(f\" + FIRST({right_part.strip()})\", end=\"\")\n",
    "    #     else:\n",
    "    #         print(f\"FIRST({right_part.strip()})\", end=\"\")        \n",
    "\n",
    "    # print(\"\")\n",
    "\n"
   ]
  },
  {
   "cell_type": "code",
   "execution_count": 14,
   "metadata": {},
   "outputs": [
    {
     "data": {
      "text/plain": [
       "{'S': ['id := E'], 'E': ['idX', 'num'], 'X': ['+numX', '+idX', 'λ']}"
      ]
     },
     "execution_count": 14,
     "metadata": {},
     "output_type": "execute_result"
    }
   ],
   "source": [
    "production"
   ]
  },
  {
   "cell_type": "code",
   "execution_count": 15,
   "metadata": {},
   "outputs": [],
   "source": [
    "## Criar dicionário de first\n",
    "first_dict = production.copy()\n",
    "follow_dict = production.copy()\n",
    "follow_position = production.copy()\n",
    "for elem in first_dict:\n",
    "    first_dict[elem] = []\n",
    "    follow_dict[elem] = []\n",
    "    follow_position[elem] = []"
   ]
  },
  {
   "cell_type": "code",
   "execution_count": null,
   "metadata": {},
   "outputs": [],
   "source": [
    "production"
   ]
  },
  {
   "cell_type": "code",
   "execution_count": null,
   "metadata": {},
   "outputs": [],
   "source": [
    "first_dict"
   ]
  },
  {
   "cell_type": "code",
   "execution_count": null,
   "metadata": {},
   "outputs": [],
   "source": [
    "follow_dict"
   ]
  },
  {
   "cell_type": "code",
   "execution_count": null,
   "metadata": {},
   "outputs": [],
   "source": [
    "def merge_lists(elem1, elem2):\n",
    "    if type(elem1 != list):\n",
    "        elem1 = list(elem1)\n",
    "    if type(elem2 != list):\n",
    "        elem2 = list(elem2)\n",
    "    return list(set(elem1 + elem2))"
   ]
  },
  {
   "cell_type": "code",
   "execution_count": null,
   "metadata": {},
   "outputs": [],
   "source": [
    "def first_set(key):\n",
    "    ### Checar se já existe no dicionário \n",
    "    \n",
    "    resultado = []\n",
    "\n",
    "    if len(key) == 1 and key in variaveis_nao_terminais:\n",
    "        if (len(first_dict[key]) != 0):\n",
    "            return first_dict[key]\n",
    "            \n",
    "        value = production[key]\n",
    "    else:\n",
    "        value = [key]  \n",
    "\n",
    "    for elem in value:\n",
    "        saida = []\n",
    "        if (len(elem) == 1 and elem == key):\n",
    "            saida = []\n",
    "        if elem == 'λ':\n",
    "            saida = 'λ'\n",
    "        if elem[0] in variaveis_terminais:\n",
    "            saida = elem[0]\n",
    "        if elem[0] in variaveis_nao_terminais:\n",
    "            if (len(first_dict[elem[0]]) != 0 ):\n",
    "                check = first_dict[elem[0]]\n",
    "            else:\n",
    "                check = first_set(elem[0])\n",
    "            ### CHecar se o first já foi calculado FIRST T\n",
    "            if 'λ' not in check:\n",
    "                saida = first_dict[elem[0]]\n",
    "            else:       \n",
    "                if(len(elem) > 1):\n",
    "                    lista_sem_vazio =  [value for value in first_dict[elem[0]] if value != 'λ']\n",
    "                    \n",
    "                    if (elem[1:] == variavel_da_vez):\n",
    "                        saida = lista_sem_vazio\n",
    "                    else:\n",
    "                        # saida = lista_sem_vazio.append(first_set(elem[1:]))\n",
    "                        saida = merge_lists(lista_sem_vazio, first_set(elem[1:]))\n",
    "                else:\n",
    "                    saida = first_dict[elem[0]]\n",
    "        \n",
    "        # resultado.append(saida)\n",
    "        resultado = merge_lists(resultado,saida)\n",
    "      \n",
    "    first_dict[key] = resultado\n",
    "    return resultado\n"
   ]
  },
  {
   "cell_type": "code",
   "execution_count": null,
   "metadata": {},
   "outputs": [],
   "source": [
    "for variavel in production:\n",
    "    variavel_da_vez = variavel\n",
    "    try:\n",
    "        first_set(variavel)\n",
    "    except Exception as e:\n",
    "        print(\"Erro First: \", e)\n",
    "        print(\"Variável: \", variavel_da_vez)\n"
   ]
  },
  {
   "cell_type": "code",
   "execution_count": null,
   "metadata": {},
   "outputs": [],
   "source": [
    "production"
   ]
  },
  {
   "cell_type": "code",
   "execution_count": null,
   "metadata": {},
   "outputs": [],
   "source": [
    "follow_dict"
   ]
  },
  {
   "cell_type": "code",
   "execution_count": null,
   "metadata": {},
   "outputs": [],
   "source": [
    "def follow_set(key):\n",
    "  resultado = []\n",
    "  ### Achar elemento que contem key\n",
    "  for chave, valor in production.items():\n",
    "    for elem in valor:\n",
    "      saida = []\n",
    "      if key == simbolo_inicial:\n",
    "          saida = \"$\"\n",
    "      if key in elem:\n",
    "        ### Achou elemento que possui a key     \n",
    "        ### Se elemento estiver na posição final    \n",
    "        indice = elem.index(key)\n",
    "\n",
    "        palavra_restante = elem[indice + 1:]\n",
    "\n",
    "        if palavra_restante == '':\n",
    "            \n",
    "          if checar_dictionario(chave,follow_dict):\n",
    "                saida = follow_dict[chave]\n",
    "          else:\n",
    "            if key == chave:\n",
    "                saida = [] \n",
    "            else:\n",
    "                saida = follow_set(chave)\n",
    "        else:\n",
    "            if checar_dictionario(palavra_restante,first_dict):\n",
    "                saida = first_dict[palavra_restante]\n",
    "            else:\n",
    "                saida = first_set(palavra_restante)\n",
    "\n",
    "\n",
    "      resultado = merge_lists(resultado,saida)     \n",
    "      if 'λ' in resultado: \n",
    "          resultado.remove('λ')\n",
    "          resultado = merge_lists(resultado,follow_set(chave))\n",
    "           \n",
    "\n",
    "  follow_dict[key] = resultado\n",
    "  \n",
    "  return resultado"
   ]
  },
  {
   "cell_type": "code",
   "execution_count": null,
   "metadata": {},
   "outputs": [],
   "source": [
    "for variavel in production:\n",
    "    variavel_da_vez = variavel\n",
    "    try:\n",
    "        follow_set(variavel)\n",
    "    except Exception as e:\n",
    "        print(\"Erro Follow: \", e)\n",
    "        print(\"Variável: \", variavel_da_vez)"
   ]
  },
  {
   "cell_type": "code",
   "execution_count": null,
   "metadata": {},
   "outputs": [],
   "source": []
  },
  {
   "cell_type": "code",
   "execution_count": null,
   "metadata": {},
   "outputs": [],
   "source": [
    "### Remover chaves de tamanho maior que um\n",
    "\n",
    "lista_chaves_desnecessarias = [key for key in first_dict if len(key) > 1 or key in variaveis_terminais]\n",
    "[first_dict.pop(key) for key in lista_chaves_desnecessarias]\n"
   ]
  },
  {
   "cell_type": "code",
   "execution_count": null,
   "metadata": {},
   "outputs": [],
   "source": [
    "df = pd.DataFrame(columns=['Variavel', 'Producao', 'First', 'Follow'])"
   ]
  },
  {
   "cell_type": "code",
   "execution_count": null,
   "metadata": {},
   "outputs": [],
   "source": [
    "df[\"Variavel\"] = variaveis_nao_terminais"
   ]
  },
  {
   "cell_type": "code",
   "execution_count": null,
   "metadata": {},
   "outputs": [],
   "source": [
    "def listToString(list):\n",
    "    str = '{'\n",
    "    for elem in list:\n",
    "        str = str + elem + ','\n",
    "\n",
    "    str = str[:-1] + '}'\n",
    "    return str\n"
   ]
  },
  {
   "cell_type": "code",
   "execution_count": null,
   "metadata": {},
   "outputs": [],
   "source": [
    "for key, value in production.items():\n",
    "    df.loc[df['Variavel'] == key, 'Producao'] = listToString(value)"
   ]
  },
  {
   "cell_type": "code",
   "execution_count": null,
   "metadata": {},
   "outputs": [],
   "source": [
    "for key, value in first_dict.items():\n",
    "    df.loc[df['Variavel'] == key, 'First'] = listToString(value)"
   ]
  },
  {
   "cell_type": "code",
   "execution_count": null,
   "metadata": {},
   "outputs": [],
   "source": [
    "for key, value in follow_dict.items():\n",
    "    df.loc[df['Variavel'] == key, 'Follow'] = listToString(value)"
   ]
  },
  {
   "cell_type": "code",
   "execution_count": null,
   "metadata": {},
   "outputs": [],
   "source": [
    "nome_arquivo_saida = f'lib/output/{file_name[:-3]}csv'\n",
    "try:\n",
    "    df.to_csv(nome_arquivo_saida, index = False)\n",
    "except:\n",
    "    print(\"Não pode salvar aquivo de saída\")"
   ]
  },
  {
   "cell_type": "code",
   "execution_count": null,
   "metadata": {},
   "outputs": [],
   "source": []
  }
 ],
 "metadata": {
  "interpreter": {
   "hash": "e87665ec0a165f363d8cc3bca4f0bcbed11768be787550cb756e5633f85a0d65"
  },
  "kernelspec": {
   "display_name": "Python 3.8.5 ('base')",
   "language": "python",
   "name": "python3"
  },
  "language_info": {
   "codemirror_mode": {
    "name": "ipython",
    "version": 3
   },
   "file_extension": ".py",
   "mimetype": "text/x-python",
   "name": "python",
   "nbconvert_exporter": "python",
   "pygments_lexer": "ipython3",
   "version": "3.8.5"
  },
  "orig_nbformat": 4
 },
 "nbformat": 4,
 "nbformat_minor": 2
}
