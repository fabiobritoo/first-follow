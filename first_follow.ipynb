{
 "cells": [
  {
   "cell_type": "markdown",
   "metadata": {},
   "source": [
    "### First Follow"
   ]
  },
  {
   "cell_type": "code",
   "execution_count": 920,
   "metadata": {},
   "outputs": [],
   "source": [
    "import os\n",
    "import pandas as pd\n",
    "import numpy as np"
   ]
  },
  {
   "cell_type": "code",
   "execution_count": 921,
   "metadata": {},
   "outputs": [],
   "source": [
    "def checar_dictionario(key, dict):\n",
    "    check = key in dict\n",
    "    if check:\n",
    "        if len(dict[key])>0:\n",
    "            return True\n",
    "    return False"
   ]
  },
  {
   "cell_type": "code",
   "execution_count": 922,
   "metadata": {},
   "outputs": [],
   "source": [
    "def print_dict(dictionary):\n",
    "    for key, value in dictionary.items():\n",
    "        print(key + \" : \" + listToString(value))"
   ]
  },
  {
   "cell_type": "code",
   "execution_count": null,
   "metadata": {},
   "outputs": [],
   "source": []
  },
  {
   "cell_type": "code",
   "execution_count": 923,
   "metadata": {},
   "outputs": [],
   "source": [
    "file_path = \"lib/input/\"\n",
    "\n",
    "try:\n",
    "    file_name = file_name_externo\n",
    "except:\n",
    "    file_name = \"exemplo1.txt\"\n",
    "try:\n",
    "    codigo_entrada = open(file_path + file_name, \"r\", encoding=\"utf8\").read()\n",
    "except:\n",
    "    codigo_entrada = \"\"\"S -> aSbc | D\n",
    "D -> dD | d\"\"\""
   ]
  },
  {
   "cell_type": "code",
   "execution_count": 924,
   "metadata": {},
   "outputs": [],
   "source": [
    "simbolo_inicial = codigo_entrada[0]"
   ]
  },
  {
   "cell_type": "code",
   "execution_count": 925,
   "metadata": {},
   "outputs": [],
   "source": [
    "codigo_entrada = codigo_entrada.replace('id','i')\n",
    "codigo_entrada = codigo_entrada.replace('num','n')\n",
    "codigo_entrada = codigo_entrada.replace(':=','=')"
   ]
  },
  {
   "cell_type": "code",
   "execution_count": 926,
   "metadata": {},
   "outputs": [],
   "source": [
    "import re"
   ]
  },
  {
   "cell_type": "code",
   "execution_count": 927,
   "metadata": {},
   "outputs": [
    {
     "data": {
      "text/plain": [
       "5"
      ]
     },
     "execution_count": 927,
     "metadata": {},
     "output_type": "execute_result"
    }
   ],
   "source": [
    "qtd_linhas = codigo_entrada.count(\"\\n\") + 1\n",
    "qtd_linhas"
   ]
  },
  {
   "cell_type": "code",
   "execution_count": 928,
   "metadata": {},
   "outputs": [],
   "source": [
    "### Encontrar\n",
    "regex_terminais = r\"[\\[\\]a-z+:=*-/;]\"\n",
    "matches = re.finditer(regex_terminais, codigo_entrada.replace(\"->\",\" \"), re.MULTILINE)\n",
    "variaveis_terminais = []\n",
    "for match in matches:\n",
    "    variaveis_terminais.append(match.group())\n",
    "\n",
    "variaveis_terminais = list(dict.fromkeys(variaveis_terminais))\n"
   ]
  },
  {
   "cell_type": "code",
   "execution_count": 929,
   "metadata": {},
   "outputs": [],
   "source": [
    "### Adicionar num\n",
    "cond_num_1 = 'n' in variaveis_terminais\n",
    "cond_num_2 = 'u' in variaveis_terminais\n",
    "cond_num_3 = 'm' in variaveis_terminais\n",
    "\n",
    "if (cond_num_1 and cond_num_2 and cond_num_3):\n",
    "    variaveis_terminais.remove('n')\n",
    "    variaveis_terminais.remove('u')\n",
    "    variaveis_terminais.remove('m')\n",
    "    variaveis_terminais.append('n')\n",
    "\n",
    "### Adicionar id\n",
    "cond_id_1 = 'i' in variaveis_terminais\n",
    "cond_id_2 = 'd' in variaveis_terminais\n",
    "\n",
    "if (cond_id_1 and cond_id_2):\n",
    "    variaveis_terminais.remove('i')\n",
    "    variaveis_terminais.remove('d')\n",
    "    variaveis_terminais.append('i')\n",
    "\n",
    "### Adicionar :=\n",
    "cond_ponto_1 = ':' in variaveis_terminais\n",
    "cond_ponto_2 = '=' in variaveis_terminais\n",
    "\n",
    "if (cond_ponto_1 and cond_ponto_2):\n",
    "    variaveis_terminais.remove(':')\n",
    "    variaveis_terminais.remove('=')\n",
    "    variaveis_terminais.append('=')"
   ]
  },
  {
   "cell_type": "code",
   "execution_count": 930,
   "metadata": {},
   "outputs": [
    {
     "data": {
      "text/plain": [
       "['b', 'a', 'd', 'g', 'h']"
      ]
     },
     "execution_count": 930,
     "metadata": {},
     "output_type": "execute_result"
    }
   ],
   "source": [
    "variaveis_terminais"
   ]
  },
  {
   "cell_type": "code",
   "execution_count": null,
   "metadata": {},
   "outputs": [],
   "source": []
  },
  {
   "cell_type": "code",
   "execution_count": 931,
   "metadata": {},
   "outputs": [
    {
     "data": {
      "text/plain": [
       "['b', 'a', 'd', 'g', 'h']"
      ]
     },
     "execution_count": 931,
     "metadata": {},
     "output_type": "execute_result"
    }
   ],
   "source": [
    "variaveis_terminais"
   ]
  },
  {
   "cell_type": "code",
   "execution_count": 932,
   "metadata": {},
   "outputs": [
    {
     "data": {
      "text/plain": [
       "['S', 'A', 'B', 'C']"
      ]
     },
     "execution_count": 932,
     "metadata": {},
     "output_type": "execute_result"
    }
   ],
   "source": [
    "# regex_nao_terminais = r\"[A-Z]\"\n",
    "regex_nao_terminais = r\".+?(?=->)\"\n",
    "matches = re.finditer(regex_nao_terminais, codigo_entrada, re.MULTILINE)\n",
    "variaveis_nao_terminais = []\n",
    "for match in matches:\n",
    "    variaveis_nao_terminais.append(match.group().strip())\n",
    "\n",
    "variaveis_nao_terminais\n",
    "# variaveis_nao_terminais = list(dict.fromkeys(variaveis_nao_terminais))"
   ]
  },
  {
   "cell_type": "code",
   "execution_count": null,
   "metadata": {},
   "outputs": [],
   "source": []
  },
  {
   "cell_type": "code",
   "execution_count": 933,
   "metadata": {},
   "outputs": [
    {
     "data": {
      "text/plain": [
       "['S', 'A', 'B', 'C']"
      ]
     },
     "execution_count": 933,
     "metadata": {},
     "output_type": "execute_result"
    }
   ],
   "source": [
    "variaveis_nao_terminais"
   ]
  },
  {
   "cell_type": "code",
   "execution_count": 934,
   "metadata": {},
   "outputs": [
    {
     "data": {
      "text/plain": [
       "['S', 'A', 'B', 'C']"
      ]
     },
     "execution_count": 934,
     "metadata": {},
     "output_type": "execute_result"
    }
   ],
   "source": [
    "variaveis_nao_terminais"
   ]
  },
  {
   "cell_type": "code",
   "execution_count": 935,
   "metadata": {},
   "outputs": [],
   "source": [
    "production = dict()"
   ]
  },
  {
   "cell_type": "code",
   "execution_count": 936,
   "metadata": {},
   "outputs": [],
   "source": [
    "\n",
    "for line in codigo_entrada.splitlines():\n",
    "    left = line.split('->')[0].strip() \n",
    "    right = line.split('->')[1].strip()\n",
    "\n",
    "    # print(f\"FIRST({left}) = \", end=\"\")\n",
    "    right\n",
    "    production[left] = []\n",
    "\n",
    "    for idx, right_part  in enumerate(right.split(\"|\")): \n",
    " \n",
    "        production[left].append(right_part.strip())\n",
    "    #     if idx > 0:\n",
    "    #         print(f\" + FIRST({right_part.strip()})\", end=\"\")\n",
    "    #     else:\n",
    "    #         print(f\"FIRST({right_part.strip()})\", end=\"\")        \n",
    "\n",
    "    # print(\"\")\n",
    "\n"
   ]
  },
  {
   "cell_type": "code",
   "execution_count": 937,
   "metadata": {},
   "outputs": [
    {
     "data": {
      "text/plain": [
       "{'S': ['ACB', 'CbB', 'Ba'],\n",
       " 'A': ['da', 'BC'],\n",
       " 'B': ['g', 'λ'],\n",
       " 'C': ['h', 'λ']}"
      ]
     },
     "execution_count": 937,
     "metadata": {},
     "output_type": "execute_result"
    }
   ],
   "source": [
    "production"
   ]
  },
  {
   "cell_type": "code",
   "execution_count": 938,
   "metadata": {},
   "outputs": [],
   "source": [
    "## Criar dicionário de first\n",
    "first_dict = production.copy()\n",
    "follow_dict = production.copy()\n",
    "follow_position = production.copy()\n",
    "for elem in first_dict:\n",
    "    first_dict[elem] = []\n",
    "    follow_dict[elem] = []\n",
    "    follow_position[elem] = []"
   ]
  },
  {
   "cell_type": "code",
   "execution_count": 939,
   "metadata": {},
   "outputs": [
    {
     "data": {
      "text/plain": [
       "{'S': ['ACB', 'CbB', 'Ba'],\n",
       " 'A': ['da', 'BC'],\n",
       " 'B': ['g', 'λ'],\n",
       " 'C': ['h', 'λ']}"
      ]
     },
     "execution_count": 939,
     "metadata": {},
     "output_type": "execute_result"
    }
   ],
   "source": [
    "production"
   ]
  },
  {
   "cell_type": "code",
   "execution_count": 940,
   "metadata": {},
   "outputs": [
    {
     "data": {
      "text/plain": [
       "{'S': [], 'A': [], 'B': [], 'C': []}"
      ]
     },
     "execution_count": 940,
     "metadata": {},
     "output_type": "execute_result"
    }
   ],
   "source": [
    "first_dict"
   ]
  },
  {
   "cell_type": "code",
   "execution_count": 941,
   "metadata": {},
   "outputs": [
    {
     "data": {
      "text/plain": [
       "{'S': [], 'A': [], 'B': [], 'C': []}"
      ]
     },
     "execution_count": 941,
     "metadata": {},
     "output_type": "execute_result"
    }
   ],
   "source": [
    "follow_dict"
   ]
  },
  {
   "cell_type": "code",
   "execution_count": 942,
   "metadata": {},
   "outputs": [],
   "source": [
    "def merge_lists(elem1, elem2):\n",
    "    if type(elem1 != list):\n",
    "        elem1 = list(elem1)\n",
    "    if type(elem2 != list):\n",
    "        elem2 = list(elem2)\n",
    "    return list(set(elem1 + elem2))"
   ]
  },
  {
   "cell_type": "code",
   "execution_count": 943,
   "metadata": {},
   "outputs": [],
   "source": [
    "lista_first_por_elem = []\n",
    "\n",
    "def first_set(key):\n",
    "    ### Checar se já existe no dicionário \n",
    "    \n",
    "    resultado = []\n",
    "\n",
    "    if len(key) == 1 and key in variaveis_nao_terminais:\n",
    "        if (len(first_dict[key]) != 0):\n",
    "            return first_dict[key]\n",
    "            \n",
    "        value = production[key]\n",
    "    else:\n",
    "        value = [key]  \n",
    "\n",
    "    for elem in value:\n",
    "        saida = []\n",
    "        if (len(elem) == 1 and elem == key):\n",
    "            saida = []\n",
    "        if elem == 'λ':\n",
    "            saida = 'λ'\n",
    "        if elem[0] in variaveis_terminais:\n",
    "            saida = elem[0]\n",
    "        if elem[0] in variaveis_nao_terminais:\n",
    "            if (len(first_dict[elem[0]]) != 0 ):\n",
    "                check = first_dict[elem[0]]\n",
    "            else:\n",
    "                check = first_set(elem[0])\n",
    "            ### CHecar se o first já foi calculado FIRST T\n",
    "            if 'λ' not in check:\n",
    "                saida = first_dict[elem[0]]\n",
    "            else:       \n",
    "                if(len(elem) > 1):\n",
    "                    lista_sem_vazio =  [value for value in first_dict[elem[0]] if value != 'λ']\n",
    "                    \n",
    "                    if (elem[1:] == variavel_da_vez):\n",
    "                        saida = lista_sem_vazio\n",
    "                    else:\n",
    "                        # saida = lista_sem_vazio.append(first_set(elem[1:]))\n",
    "                        saida = merge_lists(lista_sem_vazio, first_set(elem[1:]))\n",
    "                else:\n",
    "                    saida = first_dict[elem[0]]\n",
    "        \n",
    "        # resultado.append(saida)\n",
    "        resultado = merge_lists(resultado,saida)\n",
    "        lista_first_por_elem.append([key,elem,saida])\n",
    "      \n",
    "    first_dict[key] = resultado\n",
    "    return resultado\n"
   ]
  },
  {
   "cell_type": "code",
   "execution_count": 944,
   "metadata": {},
   "outputs": [],
   "source": [
    "for variavel in production:\n",
    "    variavel_da_vez = variavel\n",
    "    try:\n",
    "        first_set(variavel)\n",
    "    except Exception as e:\n",
    "        print(\"Erro First: \", e)\n",
    "        print(\"Variável: \", variavel_da_vez)\n"
   ]
  },
  {
   "cell_type": "code",
   "execution_count": 945,
   "metadata": {},
   "outputs": [
    {
     "data": {
      "text/plain": [
       "{'S': ['ACB', 'CbB', 'Ba'],\n",
       " 'A': ['da', 'BC'],\n",
       " 'B': ['g', 'λ'],\n",
       " 'C': ['h', 'λ']}"
      ]
     },
     "execution_count": 945,
     "metadata": {},
     "output_type": "execute_result"
    }
   ],
   "source": [
    "production"
   ]
  },
  {
   "cell_type": "code",
   "execution_count": 946,
   "metadata": {},
   "outputs": [
    {
     "data": {
      "text/plain": [
       "{'S': [], 'A': [], 'B': [], 'C': []}"
      ]
     },
     "execution_count": 946,
     "metadata": {},
     "output_type": "execute_result"
    }
   ],
   "source": [
    "follow_dict"
   ]
  },
  {
   "cell_type": "code",
   "execution_count": 947,
   "metadata": {},
   "outputs": [],
   "source": [
    "lista_follow_por_elem = []\n",
    "\n",
    "def follow_set(key):\n",
    "  resultado = []\n",
    "  ### Achar elemento que contem key\n",
    "  for chave, valor in production.items():\n",
    "    for elem in valor:\n",
    "      saida = []\n",
    "      if key == simbolo_inicial:\n",
    "          saida = \"$\"\n",
    "      if key in elem:\n",
    "        ### Achou elemento que possui a key     \n",
    "        ### Se elemento estiver na posição final    \n",
    "        indice = elem.index(key)\n",
    "\n",
    "        palavra_restante = elem[indice + 1:]\n",
    "\n",
    "        if palavra_restante == '':\n",
    "            \n",
    "          if checar_dictionario(chave,follow_dict):\n",
    "                saida = follow_dict[chave]\n",
    "          else:\n",
    "            if key == chave:\n",
    "                saida = [] \n",
    "            else:\n",
    "                saida = follow_set(chave)\n",
    "        else:\n",
    "            if checar_dictionario(palavra_restante,first_dict):\n",
    "                saida = first_dict[palavra_restante]\n",
    "            else:\n",
    "                saida = first_set(palavra_restante)\n",
    "\n",
    "\n",
    "      resultado = merge_lists(resultado,saida)     \n",
    "      if 'λ' in resultado: \n",
    "          resultado.remove('λ')\n",
    "          resultado = merge_lists(resultado,follow_set(chave))\n",
    "           \n",
    "\n",
    "  follow_dict[key] = resultado\n",
    "  lista_follow_por_elem.append([key,elem,saida])\n",
    "  \n",
    "  return resultado"
   ]
  },
  {
   "cell_type": "code",
   "execution_count": 948,
   "metadata": {},
   "outputs": [],
   "source": [
    "for variavel in production:\n",
    "    variavel_da_vez = variavel\n",
    "    try:\n",
    "        follow_set(variavel)\n",
    "    except Exception as e:\n",
    "        print(\"Erro Follow: \", e)\n",
    "        print(\"Variável: \", variavel_da_vez)"
   ]
  },
  {
   "cell_type": "code",
   "execution_count": null,
   "metadata": {},
   "outputs": [],
   "source": []
  },
  {
   "cell_type": "code",
   "execution_count": 949,
   "metadata": {},
   "outputs": [
    {
     "data": {
      "text/plain": [
       "[['h', 'g', 'λ'], ['b'], ['a']]"
      ]
     },
     "execution_count": 949,
     "metadata": {},
     "output_type": "execute_result"
    }
   ],
   "source": [
    "### Remover chaves de tamanho maior que um\n",
    "\n",
    "lista_chaves_desnecessarias = [key for key in first_dict if len(key) > 1 or key in variaveis_terminais]\n",
    "[first_dict.pop(key) for key in lista_chaves_desnecessarias]\n"
   ]
  },
  {
   "cell_type": "code",
   "execution_count": 950,
   "metadata": {},
   "outputs": [],
   "source": [
    "df = pd.DataFrame(columns=['Variavel', 'Producao', 'First', 'Follow'])"
   ]
  },
  {
   "cell_type": "code",
   "execution_count": 951,
   "metadata": {},
   "outputs": [],
   "source": [
    "df[\"Variavel\"] = variaveis_nao_terminais"
   ]
  },
  {
   "cell_type": "code",
   "execution_count": 952,
   "metadata": {},
   "outputs": [],
   "source": [
    "def listToString(list):\n",
    "    str = '{'\n",
    "    for elem in list:\n",
    "        str = str + elem + ','\n",
    "\n",
    "    str = str[:-1] + '}'\n",
    "    return str\n"
   ]
  },
  {
   "cell_type": "code",
   "execution_count": 953,
   "metadata": {},
   "outputs": [],
   "source": [
    "for key, value in production.items():\n",
    "    df.loc[df['Variavel'] == key, 'Producao'] = listToString(value)"
   ]
  },
  {
   "cell_type": "code",
   "execution_count": 954,
   "metadata": {},
   "outputs": [],
   "source": [
    "for key, value in first_dict.items():\n",
    "    df.loc[df['Variavel'] == key, 'First'] = listToString(value)"
   ]
  },
  {
   "cell_type": "code",
   "execution_count": 955,
   "metadata": {},
   "outputs": [],
   "source": [
    "for key, value in follow_dict.items():\n",
    "    df.loc[df['Variavel'] == key, 'Follow'] = listToString(value)"
   ]
  },
  {
   "cell_type": "code",
   "execution_count": 956,
   "metadata": {},
   "outputs": [],
   "source": [
    "nome_arquivo_saida = f'lib/output/{file_name[:-3]}csv'\n",
    "try:\n",
    "    df.to_csv(nome_arquivo_saida, index = False)\n",
    "except:\n",
    "    print(\"Não pode salvar aquivo de saída\")"
   ]
  },
  {
   "cell_type": "code",
   "execution_count": 957,
   "metadata": {},
   "outputs": [
    {
     "data": {
      "text/html": [
       "<div>\n",
       "<style scoped>\n",
       "    .dataframe tbody tr th:only-of-type {\n",
       "        vertical-align: middle;\n",
       "    }\n",
       "\n",
       "    .dataframe tbody tr th {\n",
       "        vertical-align: top;\n",
       "    }\n",
       "\n",
       "    .dataframe thead th {\n",
       "        text-align: right;\n",
       "    }\n",
       "</style>\n",
       "<table border=\"1\" class=\"dataframe\">\n",
       "  <thead>\n",
       "    <tr style=\"text-align: right;\">\n",
       "      <th></th>\n",
       "      <th>Variavel</th>\n",
       "      <th>Producao</th>\n",
       "      <th>First</th>\n",
       "      <th>Follow</th>\n",
       "    </tr>\n",
       "  </thead>\n",
       "  <tbody>\n",
       "    <tr>\n",
       "      <th>0</th>\n",
       "      <td>S</td>\n",
       "      <td>{ACB,CbB,Ba}</td>\n",
       "      <td>{h,b,λ,g,a,d}</td>\n",
       "      <td>{$}</td>\n",
       "    </tr>\n",
       "    <tr>\n",
       "      <th>1</th>\n",
       "      <td>A</td>\n",
       "      <td>{da,BC}</td>\n",
       "      <td>{h,g,λ,d}</td>\n",
       "      <td>{h,g,$}</td>\n",
       "    </tr>\n",
       "    <tr>\n",
       "      <th>2</th>\n",
       "      <td>B</td>\n",
       "      <td>{g,λ}</td>\n",
       "      <td>{g,λ}</td>\n",
       "      <td>{h,g,a,$}</td>\n",
       "    </tr>\n",
       "    <tr>\n",
       "      <th>3</th>\n",
       "      <td>C</td>\n",
       "      <td>{h,λ}</td>\n",
       "      <td>{h,λ}</td>\n",
       "      <td>{h,g,b,$}</td>\n",
       "    </tr>\n",
       "  </tbody>\n",
       "</table>\n",
       "</div>"
      ],
      "text/plain": [
       "  Variavel      Producao          First     Follow\n",
       "0        S  {ACB,CbB,Ba}  {h,b,λ,g,a,d}        {$}\n",
       "1        A       {da,BC}      {h,g,λ,d}    {h,g,$}\n",
       "2        B         {g,λ}          {g,λ}  {h,g,a,$}\n",
       "3        C         {h,λ}          {h,λ}  {h,g,b,$}"
      ]
     },
     "execution_count": 957,
     "metadata": {},
     "output_type": "execute_result"
    }
   ],
   "source": [
    "df"
   ]
  },
  {
   "cell_type": "markdown",
   "metadata": {},
   "source": [
    "#### Primeira Tabela Resultante"
   ]
  },
  {
   "cell_type": "code",
   "execution_count": 958,
   "metadata": {},
   "outputs": [],
   "source": [
    "colunas = variaveis_terminais.copy()\n",
    "colunas.insert(0,'M(V,T)')"
   ]
  },
  {
   "cell_type": "code",
   "execution_count": 959,
   "metadata": {},
   "outputs": [],
   "source": [
    "df_1 = pd.DataFrame(columns=colunas)\n",
    "df_1['M(V,T)'] = variaveis_nao_terminais\n",
    "df_1.index = df_1['M(V,T)']"
   ]
  },
  {
   "cell_type": "code",
   "execution_count": 960,
   "metadata": {},
   "outputs": [
    {
     "data": {
      "text/html": [
       "<div>\n",
       "<style scoped>\n",
       "    .dataframe tbody tr th:only-of-type {\n",
       "        vertical-align: middle;\n",
       "    }\n",
       "\n",
       "    .dataframe tbody tr th {\n",
       "        vertical-align: top;\n",
       "    }\n",
       "\n",
       "    .dataframe thead th {\n",
       "        text-align: right;\n",
       "    }\n",
       "</style>\n",
       "<table border=\"1\" class=\"dataframe\">\n",
       "  <thead>\n",
       "    <tr style=\"text-align: right;\">\n",
       "      <th></th>\n",
       "      <th>M(V,T)</th>\n",
       "      <th>b</th>\n",
       "      <th>a</th>\n",
       "      <th>d</th>\n",
       "      <th>g</th>\n",
       "      <th>h</th>\n",
       "    </tr>\n",
       "    <tr>\n",
       "      <th>M(V,T)</th>\n",
       "      <th></th>\n",
       "      <th></th>\n",
       "      <th></th>\n",
       "      <th></th>\n",
       "      <th></th>\n",
       "      <th></th>\n",
       "    </tr>\n",
       "  </thead>\n",
       "  <tbody>\n",
       "    <tr>\n",
       "      <th>S</th>\n",
       "      <td>S</td>\n",
       "      <td>NaN</td>\n",
       "      <td>NaN</td>\n",
       "      <td>NaN</td>\n",
       "      <td>NaN</td>\n",
       "      <td>NaN</td>\n",
       "    </tr>\n",
       "    <tr>\n",
       "      <th>A</th>\n",
       "      <td>A</td>\n",
       "      <td>NaN</td>\n",
       "      <td>NaN</td>\n",
       "      <td>NaN</td>\n",
       "      <td>NaN</td>\n",
       "      <td>NaN</td>\n",
       "    </tr>\n",
       "    <tr>\n",
       "      <th>B</th>\n",
       "      <td>B</td>\n",
       "      <td>NaN</td>\n",
       "      <td>NaN</td>\n",
       "      <td>NaN</td>\n",
       "      <td>NaN</td>\n",
       "      <td>NaN</td>\n",
       "    </tr>\n",
       "    <tr>\n",
       "      <th>C</th>\n",
       "      <td>C</td>\n",
       "      <td>NaN</td>\n",
       "      <td>NaN</td>\n",
       "      <td>NaN</td>\n",
       "      <td>NaN</td>\n",
       "      <td>NaN</td>\n",
       "    </tr>\n",
       "  </tbody>\n",
       "</table>\n",
       "</div>"
      ],
      "text/plain": [
       "       M(V,T)    b    a    d    g    h\n",
       "M(V,T)                                \n",
       "S           S  NaN  NaN  NaN  NaN  NaN\n",
       "A           A  NaN  NaN  NaN  NaN  NaN\n",
       "B           B  NaN  NaN  NaN  NaN  NaN\n",
       "C           C  NaN  NaN  NaN  NaN  NaN"
      ]
     },
     "execution_count": 960,
     "metadata": {},
     "output_type": "execute_result"
    }
   ],
   "source": [
    "df_1"
   ]
  },
  {
   "cell_type": "code",
   "execution_count": 961,
   "metadata": {},
   "outputs": [
    {
     "name": "stdout",
     "output_type": "stream",
     "text": [
      "S : {ACB,CbB,Ba}\n",
      "A : {da,BC}\n",
      "B : {g,λ}\n",
      "C : {h,λ}\n"
     ]
    }
   ],
   "source": [
    "print_dict(production)"
   ]
  },
  {
   "cell_type": "code",
   "execution_count": 962,
   "metadata": {},
   "outputs": [],
   "source": [
    "### Todos as produções vão para seu FIRST\n",
    "### As Vazio vão para o follow"
   ]
  },
  {
   "cell_type": "code",
   "execution_count": 969,
   "metadata": {},
   "outputs": [],
   "source": [
    "### Tratar casos onde a produção é vazia -> Usar elementos do follow\n",
    "\n",
    "for row in lista_first_por_elem:\n",
    "    if 'λ' in row[1]:\n",
    "        lista_follow = follow_set(row[0])\n",
    "        lista_follow = [elem for elem in lista_follow if elem not in first_dict[row[0]]]\n",
    "        lista = merge_lists(row[2],lista_follow)        \n",
    "        row[2] = [elem for elem in lista if elem != 'λ']\n",
    "    else:\n",
    "        if 'λ' in row[2]:\n",
    "            lista_follow = follow_set(row[0])\n",
    "            lista_follow = [elem for elem in lista_follow if elem not in first_dict[row[0]]]\n",
    "            lista = merge_lists(row[2],lista_follow)        \n",
    "            row[2] = [elem for elem in lista if elem != 'λ']\n",
    "        \n",
    "\n",
    "### Eliminar Variaves Não Terminais Erradas\n",
    "\n",
    "lista_table = [elem for elem in lista_first_por_elem if elem[0] in variaveis_nao_terminais]"
   ]
  },
  {
   "cell_type": "code",
   "execution_count": 971,
   "metadata": {},
   "outputs": [],
   "source": [
    "for elem in lista_table:\n",
    "    for coluna in elem[2]:\n",
    "        df_1.loc[elem[0], coluna] = elem[0] + \"->\" + elem[1]\n",
    "    "
   ]
  },
  {
   "cell_type": "code",
   "execution_count": 972,
   "metadata": {},
   "outputs": [
    {
     "data": {
      "text/html": [
       "<div>\n",
       "<style scoped>\n",
       "    .dataframe tbody tr th:only-of-type {\n",
       "        vertical-align: middle;\n",
       "    }\n",
       "\n",
       "    .dataframe tbody tr th {\n",
       "        vertical-align: top;\n",
       "    }\n",
       "\n",
       "    .dataframe thead th {\n",
       "        text-align: right;\n",
       "    }\n",
       "</style>\n",
       "<table border=\"1\" class=\"dataframe\">\n",
       "  <thead>\n",
       "    <tr style=\"text-align: right;\">\n",
       "      <th></th>\n",
       "      <th>M(V,T)</th>\n",
       "      <th>b</th>\n",
       "      <th>a</th>\n",
       "      <th>d</th>\n",
       "      <th>g</th>\n",
       "      <th>h</th>\n",
       "      <th>$</th>\n",
       "    </tr>\n",
       "  </thead>\n",
       "  <tbody>\n",
       "    <tr>\n",
       "      <th>0</th>\n",
       "      <td>S</td>\n",
       "      <td>S-&gt;CbB</td>\n",
       "      <td>S-&gt;Ba</td>\n",
       "      <td>S-&gt;ACB</td>\n",
       "      <td>S-&gt;Ba</td>\n",
       "      <td>S-&gt;CbB</td>\n",
       "      <td>S-&gt;ACB</td>\n",
       "    </tr>\n",
       "    <tr>\n",
       "      <th>1</th>\n",
       "      <td>A</td>\n",
       "      <td>-</td>\n",
       "      <td>-</td>\n",
       "      <td>A-&gt;da</td>\n",
       "      <td>A-&gt;BC</td>\n",
       "      <td>A-&gt;BC</td>\n",
       "      <td>A-&gt;BC</td>\n",
       "    </tr>\n",
       "    <tr>\n",
       "      <th>2</th>\n",
       "      <td>B</td>\n",
       "      <td>-</td>\n",
       "      <td>B-&gt;λ</td>\n",
       "      <td>-</td>\n",
       "      <td>B-&gt;g</td>\n",
       "      <td>B-&gt;λ</td>\n",
       "      <td>B-&gt;λ</td>\n",
       "    </tr>\n",
       "    <tr>\n",
       "      <th>3</th>\n",
       "      <td>C</td>\n",
       "      <td>C-&gt;λ</td>\n",
       "      <td>-</td>\n",
       "      <td>-</td>\n",
       "      <td>C-&gt;λ</td>\n",
       "      <td>C-&gt;h</td>\n",
       "      <td>C-&gt;λ</td>\n",
       "    </tr>\n",
       "  </tbody>\n",
       "</table>\n",
       "</div>"
      ],
      "text/plain": [
       "  M(V,T)       b      a       d      g       h       $\n",
       "0      S  S->CbB  S->Ba  S->ACB  S->Ba  S->CbB  S->ACB\n",
       "1      A       -      -   A->da  A->BC   A->BC   A->BC\n",
       "2      B       -   B->λ       -   B->g    B->λ    B->λ\n",
       "3      C    C->λ      -       -   C->λ    C->h    C->λ"
      ]
     },
     "execution_count": 972,
     "metadata": {},
     "output_type": "execute_result"
    }
   ],
   "source": [
    "### Formatar\n",
    "\n",
    "df_1 = df_1.reset_index(drop=True).fillna('-')\n",
    "df_1"
   ]
  },
  {
   "cell_type": "code",
   "execution_count": 987,
   "metadata": {},
   "outputs": [],
   "source": [
    "#### Tabela de Verificação\n",
    "palavra = 'dahg'"
   ]
  },
  {
   "cell_type": "code",
   "execution_count": 1004,
   "metadata": {},
   "outputs": [],
   "source": [
    "def juntar_lista(lista):\n",
    "    saida = ''\n",
    "    for elem in lista:\n",
    "        saida = saida + elem\n",
    "    return saida"
   ]
  },
  {
   "cell_type": "code",
   "execution_count": 1019,
   "metadata": {},
   "outputs": [
    {
     "data": {
      "text/html": [
       "<div>\n",
       "<style scoped>\n",
       "    .dataframe tbody tr th:only-of-type {\n",
       "        vertical-align: middle;\n",
       "    }\n",
       "\n",
       "    .dataframe tbody tr th {\n",
       "        vertical-align: top;\n",
       "    }\n",
       "\n",
       "    .dataframe thead th {\n",
       "        text-align: right;\n",
       "    }\n",
       "</style>\n",
       "<table border=\"1\" class=\"dataframe\">\n",
       "  <thead>\n",
       "    <tr style=\"text-align: right;\">\n",
       "      <th></th>\n",
       "      <th>Pilha</th>\n",
       "      <th>Entrada</th>\n",
       "      <th>Producao</th>\n",
       "    </tr>\n",
       "  </thead>\n",
       "  <tbody>\n",
       "    <tr>\n",
       "      <th>0</th>\n",
       "      <td>$</td>\n",
       "      <td>$</td>\n",
       "      <td>S</td>\n",
       "    </tr>\n",
       "    <tr>\n",
       "      <th>1</th>\n",
       "      <td>$S</td>\n",
       "      <td>dahg$</td>\n",
       "      <td>S-&gt;ACB</td>\n",
       "    </tr>\n",
       "  </tbody>\n",
       "</table>\n",
       "</div>"
      ],
      "text/plain": [
       "  Pilha Entrada Producao\n",
       "0     $       $        S\n",
       "1    $S   dahg$   S->ACB"
      ]
     },
     "execution_count": 1019,
     "metadata": {},
     "output_type": "execute_result"
    }
   ],
   "source": [
    "df_2 = pd.DataFrame(columns=['Pilha','Entrada','Producao'])\n",
    "\n",
    "lista_pilha = ['$']\n",
    "lista_entrada = ['$']\n",
    "\n",
    "df_2.loc[0] = [juntar_lista(lista_pilha),juntar_lista(lista_entrada),simbolo_inicial]\n",
    "\n",
    "i = 1\n",
    "lista_pilha.insert(len(lista_pilha),simbolo_inicial)\n",
    "lista_entrada.insert(0,palavra)\n",
    "\n",
    "cond = df_1['M(V,T)'] == simbolo_inicial\n",
    "producao = df_1[cond][lista_entrada[0][0]][0]\n",
    "\n",
    "df_2.loc[i] = [juntar_lista(lista_pilha),juntar_lista(lista_entrada),producao]\n",
    "\n",
    "df_2\n",
    "\n",
    "# i = 2\n",
    "\n",
    "\n",
    "# cond = df_1['M(V,T)'] == lista_pilha[-1]\n",
    "# producao = df_1[cond][entrada[0]][0]\n",
    "\n",
    "# if (producao != ''):\n",
    "    \n",
    "#     ### Achar o conjunto a ser substituido\n",
    "#     variavel_retirada = lista_pilha.pop()\n",
    "#     cond = df_1['M(V,T)'] = variavel_retirada\n",
    "\n",
    "#     lista_pilha.insert(len(lista_pilha),simbolo_inicial)\n",
    "\n",
    "\n"
   ]
  },
  {
   "cell_type": "code",
   "execution_count": 1017,
   "metadata": {},
   "outputs": [
    {
     "data": {
      "text/plain": [
       "'d'"
      ]
     },
     "execution_count": 1017,
     "metadata": {},
     "output_type": "execute_result"
    }
   ],
   "source": [
    "lista_entrada[0][0]"
   ]
  },
  {
   "cell_type": "code",
   "execution_count": 1018,
   "metadata": {},
   "outputs": [
    {
     "data": {
      "text/plain": [
       "0    S->ACB\n",
       "Name: d, dtype: object"
      ]
     },
     "execution_count": 1018,
     "metadata": {},
     "output_type": "execute_result"
    }
   ],
   "source": [
    "cond = df_1['M(V,T)'] == simbolo_inicial\n",
    "producao = df_1[cond][lista_entrada[0][0]]\n",
    "producao"
   ]
  },
  {
   "cell_type": "code",
   "execution_count": 999,
   "metadata": {},
   "outputs": [
    {
     "data": {
      "text/html": [
       "<div>\n",
       "<style scoped>\n",
       "    .dataframe tbody tr th:only-of-type {\n",
       "        vertical-align: middle;\n",
       "    }\n",
       "\n",
       "    .dataframe tbody tr th {\n",
       "        vertical-align: top;\n",
       "    }\n",
       "\n",
       "    .dataframe thead th {\n",
       "        text-align: right;\n",
       "    }\n",
       "</style>\n",
       "<table border=\"1\" class=\"dataframe\">\n",
       "  <thead>\n",
       "    <tr style=\"text-align: right;\">\n",
       "      <th></th>\n",
       "      <th>Pilha</th>\n",
       "      <th>Entrada</th>\n",
       "      <th>Producao</th>\n",
       "    </tr>\n",
       "  </thead>\n",
       "  <tbody>\n",
       "    <tr>\n",
       "      <th>0</th>\n",
       "      <td>$</td>\n",
       "      <td>$</td>\n",
       "      <td>S</td>\n",
       "    </tr>\n",
       "    <tr>\n",
       "      <th>1</th>\n",
       "      <td>$S</td>\n",
       "      <td>dahg$</td>\n",
       "      <td>S-&gt;ACB</td>\n",
       "    </tr>\n",
       "  </tbody>\n",
       "</table>\n",
       "</div>"
      ],
      "text/plain": [
       "  Pilha Entrada Producao\n",
       "0     $       $        S\n",
       "1    $S   dahg$   S->ACB"
      ]
     },
     "execution_count": 999,
     "metadata": {},
     "output_type": "execute_result"
    }
   ],
   "source": [
    "df_2 = pd.DataFrame(columns=['Pilha','Entrada','Producao'])\n",
    "\n",
    "lista_pilha = ['$']\n",
    "lista_entrada = ['$']\n",
    "\n",
    "pilha = [p for p in lista_pilha]\n",
    "df_2.loc[0] = ['$','$',simbolo_inicial]\n",
    "\n",
    "#passo1\n",
    "\n",
    "i = 0\n",
    "\n",
    "while range(0,10):\n",
    "\n",
    "    lista_pilha\n",
    "\n",
    "    pilha_anterior = df_2['Pilha'][indice]\n",
    "    entrada_anterior = df_2['Entrada'][indice]\n",
    "\n",
    "    if i == 0:\n",
    "        pilha = pilha_anterior + simbolo_inicial\n",
    "    else:\n",
    "        pilha = \n",
    "    entrada = palavra + entrada_anterior\n",
    "\n",
    "\n",
    "cond = df_1['M(V,T)'] == 'S'\n",
    "producao = df_1[cond][entrada[0]][0]\n",
    "\n",
    "if producao == '-':\n",
    "    break\n",
    "else:\n",
    "\n",
    "\n",
    "df_2.loc[indice + 1] = [pilha,entrada,producao]\n",
    "\n",
    "df_2"
   ]
  },
  {
   "cell_type": "code",
   "execution_count": 1000,
   "metadata": {},
   "outputs": [
    {
     "data": {
      "text/html": [
       "<div>\n",
       "<style scoped>\n",
       "    .dataframe tbody tr th:only-of-type {\n",
       "        vertical-align: middle;\n",
       "    }\n",
       "\n",
       "    .dataframe tbody tr th {\n",
       "        vertical-align: top;\n",
       "    }\n",
       "\n",
       "    .dataframe thead th {\n",
       "        text-align: right;\n",
       "    }\n",
       "</style>\n",
       "<table border=\"1\" class=\"dataframe\">\n",
       "  <thead>\n",
       "    <tr style=\"text-align: right;\">\n",
       "      <th></th>\n",
       "      <th>M(V,T)</th>\n",
       "      <th>b</th>\n",
       "      <th>a</th>\n",
       "      <th>d</th>\n",
       "      <th>g</th>\n",
       "      <th>h</th>\n",
       "      <th>$</th>\n",
       "    </tr>\n",
       "  </thead>\n",
       "  <tbody>\n",
       "    <tr>\n",
       "      <th>0</th>\n",
       "      <td>S</td>\n",
       "      <td>S-&gt;CbB</td>\n",
       "      <td>S-&gt;Ba</td>\n",
       "      <td>S-&gt;ACB</td>\n",
       "      <td>S-&gt;Ba</td>\n",
       "      <td>S-&gt;CbB</td>\n",
       "      <td>S-&gt;ACB</td>\n",
       "    </tr>\n",
       "    <tr>\n",
       "      <th>1</th>\n",
       "      <td>A</td>\n",
       "      <td>-</td>\n",
       "      <td>-</td>\n",
       "      <td>A-&gt;da</td>\n",
       "      <td>A-&gt;BC</td>\n",
       "      <td>A-&gt;BC</td>\n",
       "      <td>A-&gt;BC</td>\n",
       "    </tr>\n",
       "    <tr>\n",
       "      <th>2</th>\n",
       "      <td>B</td>\n",
       "      <td>-</td>\n",
       "      <td>B-&gt;λ</td>\n",
       "      <td>-</td>\n",
       "      <td>B-&gt;g</td>\n",
       "      <td>B-&gt;λ</td>\n",
       "      <td>B-&gt;λ</td>\n",
       "    </tr>\n",
       "    <tr>\n",
       "      <th>3</th>\n",
       "      <td>C</td>\n",
       "      <td>C-&gt;λ</td>\n",
       "      <td>-</td>\n",
       "      <td>-</td>\n",
       "      <td>C-&gt;λ</td>\n",
       "      <td>C-&gt;h</td>\n",
       "      <td>C-&gt;λ</td>\n",
       "    </tr>\n",
       "  </tbody>\n",
       "</table>\n",
       "</div>"
      ],
      "text/plain": [
       "  M(V,T)       b      a       d      g       h       $\n",
       "0      S  S->CbB  S->Ba  S->ACB  S->Ba  S->CbB  S->ACB\n",
       "1      A       -      -   A->da  A->BC   A->BC   A->BC\n",
       "2      B       -   B->λ       -   B->g    B->λ    B->λ\n",
       "3      C    C->λ      -       -   C->λ    C->h    C->λ"
      ]
     },
     "execution_count": 1000,
     "metadata": {},
     "output_type": "execute_result"
    }
   ],
   "source": [
    "df_1"
   ]
  },
  {
   "cell_type": "code",
   "execution_count": 997,
   "metadata": {},
   "outputs": [
    {
     "data": {
      "text/plain": [
       "'S->ACB'"
      ]
     },
     "execution_count": 997,
     "metadata": {},
     "output_type": "execute_result"
    }
   ],
   "source": [
    "cond = df_1['M(V,T)'] == 'S'\n",
    "df_1[cond][entrada[0]][0]"
   ]
  },
  {
   "cell_type": "code",
   "execution_count": 993,
   "metadata": {},
   "outputs": [
    {
     "data": {
      "text/plain": [
       "0    S->ACB\n",
       "Name: d, dtype: object"
      ]
     },
     "execution_count": 993,
     "metadata": {},
     "output_type": "execute_result"
    }
   ],
   "source": [
    "cond = df_1['M(V,T)'] == 'S'\n",
    "df_1[cond]['d']"
   ]
  },
  {
   "cell_type": "code",
   "execution_count": 991,
   "metadata": {},
   "outputs": [
    {
     "data": {
      "text/html": [
       "<div>\n",
       "<style scoped>\n",
       "    .dataframe tbody tr th:only-of-type {\n",
       "        vertical-align: middle;\n",
       "    }\n",
       "\n",
       "    .dataframe tbody tr th {\n",
       "        vertical-align: top;\n",
       "    }\n",
       "\n",
       "    .dataframe thead th {\n",
       "        text-align: right;\n",
       "    }\n",
       "</style>\n",
       "<table border=\"1\" class=\"dataframe\">\n",
       "  <thead>\n",
       "    <tr style=\"text-align: right;\">\n",
       "      <th></th>\n",
       "      <th>M(V,T)</th>\n",
       "      <th>b</th>\n",
       "      <th>a</th>\n",
       "      <th>d</th>\n",
       "      <th>g</th>\n",
       "      <th>h</th>\n",
       "      <th>$</th>\n",
       "    </tr>\n",
       "  </thead>\n",
       "  <tbody>\n",
       "    <tr>\n",
       "      <th>0</th>\n",
       "      <td>S</td>\n",
       "      <td>S-&gt;CbB</td>\n",
       "      <td>S-&gt;Ba</td>\n",
       "      <td>S-&gt;ACB</td>\n",
       "      <td>S-&gt;Ba</td>\n",
       "      <td>S-&gt;CbB</td>\n",
       "      <td>S-&gt;ACB</td>\n",
       "    </tr>\n",
       "    <tr>\n",
       "      <th>1</th>\n",
       "      <td>A</td>\n",
       "      <td>-</td>\n",
       "      <td>-</td>\n",
       "      <td>A-&gt;da</td>\n",
       "      <td>A-&gt;BC</td>\n",
       "      <td>A-&gt;BC</td>\n",
       "      <td>A-&gt;BC</td>\n",
       "    </tr>\n",
       "    <tr>\n",
       "      <th>2</th>\n",
       "      <td>B</td>\n",
       "      <td>-</td>\n",
       "      <td>B-&gt;λ</td>\n",
       "      <td>-</td>\n",
       "      <td>B-&gt;g</td>\n",
       "      <td>B-&gt;λ</td>\n",
       "      <td>B-&gt;λ</td>\n",
       "    </tr>\n",
       "    <tr>\n",
       "      <th>3</th>\n",
       "      <td>C</td>\n",
       "      <td>C-&gt;λ</td>\n",
       "      <td>-</td>\n",
       "      <td>-</td>\n",
       "      <td>C-&gt;λ</td>\n",
       "      <td>C-&gt;h</td>\n",
       "      <td>C-&gt;λ</td>\n",
       "    </tr>\n",
       "  </tbody>\n",
       "</table>\n",
       "</div>"
      ],
      "text/plain": [
       "  M(V,T)       b      a       d      g       h       $\n",
       "0      S  S->CbB  S->Ba  S->ACB  S->Ba  S->CbB  S->ACB\n",
       "1      A       -      -   A->da  A->BC   A->BC   A->BC\n",
       "2      B       -   B->λ       -   B->g    B->λ    B->λ\n",
       "3      C    C->λ      -       -   C->λ    C->h    C->λ"
      ]
     },
     "execution_count": 991,
     "metadata": {},
     "output_type": "execute_result"
    }
   ],
   "source": [
    "df_1"
   ]
  },
  {
   "cell_type": "code",
   "execution_count": 980,
   "metadata": {},
   "outputs": [
    {
     "data": {
      "text/plain": [
       "0"
      ]
     },
     "execution_count": 980,
     "metadata": {},
     "output_type": "execute_result"
    }
   ],
   "source": [
    "df_2.index.max()"
   ]
  },
  {
   "cell_type": "code",
   "execution_count": null,
   "metadata": {},
   "outputs": [],
   "source": []
  }
 ],
 "metadata": {
  "interpreter": {
   "hash": "e87665ec0a165f363d8cc3bca4f0bcbed11768be787550cb756e5633f85a0d65"
  },
  "kernelspec": {
   "display_name": "Python 3.8.5 ('base')",
   "language": "python",
   "name": "python3"
  },
  "language_info": {
   "codemirror_mode": {
    "name": "ipython",
    "version": 3
   },
   "file_extension": ".py",
   "mimetype": "text/x-python",
   "name": "python",
   "nbconvert_exporter": "python",
   "pygments_lexer": "ipython3",
   "version": "3.8.5"
  },
  "orig_nbformat": 4
 },
 "nbformat": 4,
 "nbformat_minor": 2
}
