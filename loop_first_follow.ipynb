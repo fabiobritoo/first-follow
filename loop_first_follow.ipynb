{
 "cells": [
  {
   "cell_type": "markdown",
   "metadata": {},
   "source": [
    "### First Follow"
   ]
  },
  {
   "cell_type": "code",
   "execution_count": 3,
   "metadata": {},
   "outputs": [],
   "source": [
    "import os\n",
    "import pandas as pd\n",
    "import numpy as np"
   ]
  },
  {
   "cell_type": "code",
   "execution_count": 4,
   "metadata": {},
   "outputs": [
    {
     "name": "stdout",
     "output_type": "stream",
     "text": [
      "Executando arquivo: exemplo1.txt\n",
      "E : {TA}\n",
      "A : {+TA,λ}\n",
      "T : {FB}\n",
      "B : {*FB,λ}\n",
      "F : {(E),x}\n",
      "Terminou\n",
      "Terminou\n"
     ]
    },
    {
     "ename": "IndexError",
     "evalue": "list index out of range",
     "output_type": "error",
     "traceback": [
      "\u001b[1;31m---------------------------------------------------------------------------\u001b[0m",
      "\u001b[1;31mIndexError\u001b[0m                                Traceback (most recent call last)",
      "\u001b[1;32mc:\\Users\\arauj\\Documents\\Nassau\\Periodo_7\\Compiladores\\First_Follow\\first_follow.ipynb\u001b[0m in \u001b[0;36m<module>\u001b[1;34m\u001b[0m\n\u001b[0;32m     10\u001b[0m \u001b[1;33m\u001b[0m\u001b[0m\n\u001b[0;32m     11\u001b[0m \u001b[1;33m\u001b[0m\u001b[0m\n\u001b[1;32m---> 12\u001b[1;33m \u001b[0melemento_analisado\u001b[0m \u001b[1;33m=\u001b[0m \u001b[0mlista_pilha\u001b[0m\u001b[1;33m[\u001b[0m\u001b[1;33m-\u001b[0m\u001b[1;36m1\u001b[0m\u001b[1;33m]\u001b[0m\u001b[1;33m\u001b[0m\u001b[1;33m\u001b[0m\u001b[0m\n\u001b[0m\u001b[0;32m     13\u001b[0m \u001b[0melemento_entrada\u001b[0m \u001b[1;33m=\u001b[0m \u001b[0mlista_entrada\u001b[0m\u001b[1;33m[\u001b[0m\u001b[1;36m0\u001b[0m\u001b[1;33m]\u001b[0m\u001b[1;33m\u001b[0m\u001b[1;33m\u001b[0m\u001b[0m\n\u001b[0;32m     14\u001b[0m \u001b[1;33m\u001b[0m\u001b[0m\n",
      "\u001b[1;31mIndexError\u001b[0m: list index out of range"
     ]
    },
    {
     "name": "stdout",
     "output_type": "stream",
     "text": [
      "Erro no arquivo: exemplo1.txt -> list index out of range\n",
      "Executando arquivo: exemplo2.txt\n",
      "S : {ACB,CbB,Ba}\n",
      "A : {da,BC}\n",
      "B : {g,λ}\n",
      "C : {h,λ}\n",
      "Terminou\n",
      "Terminou\n"
     ]
    },
    {
     "ename": "IndexError",
     "evalue": "list index out of range",
     "output_type": "error",
     "traceback": [
      "\u001b[1;31m---------------------------------------------------------------------------\u001b[0m",
      "\u001b[1;31mIndexError\u001b[0m                                Traceback (most recent call last)",
      "\u001b[1;32mc:\\Users\\arauj\\Documents\\Nassau\\Periodo_7\\Compiladores\\First_Follow\\first_follow.ipynb\u001b[0m in \u001b[0;36m<module>\u001b[1;34m\u001b[0m\n\u001b[0;32m     10\u001b[0m \u001b[1;33m\u001b[0m\u001b[0m\n\u001b[0;32m     11\u001b[0m \u001b[1;33m\u001b[0m\u001b[0m\n\u001b[1;32m---> 12\u001b[1;33m \u001b[0melemento_analisado\u001b[0m \u001b[1;33m=\u001b[0m \u001b[0mlista_pilha\u001b[0m\u001b[1;33m[\u001b[0m\u001b[1;33m-\u001b[0m\u001b[1;36m1\u001b[0m\u001b[1;33m]\u001b[0m\u001b[1;33m\u001b[0m\u001b[1;33m\u001b[0m\u001b[0m\n\u001b[0m\u001b[0;32m     13\u001b[0m \u001b[0melemento_entrada\u001b[0m \u001b[1;33m=\u001b[0m \u001b[0mlista_entrada\u001b[0m\u001b[1;33m[\u001b[0m\u001b[1;36m0\u001b[0m\u001b[1;33m]\u001b[0m\u001b[1;33m\u001b[0m\u001b[1;33m\u001b[0m\u001b[0m\n\u001b[0;32m     14\u001b[0m \u001b[1;33m\u001b[0m\u001b[0m\n",
      "\u001b[1;31mIndexError\u001b[0m: list index out of range"
     ]
    },
    {
     "name": "stdout",
     "output_type": "stream",
     "text": [
      "Erro no arquivo: exemplo2.txt -> list index out of range\n",
      "Executando arquivo: input_a.txt\n",
      "S : {aSbc,D}\n",
      "D : {dD,d}\n",
      "Elemento não corresponde ao Alfabeto\n",
      "Elemento não corresponde ao Alfabeto\n",
      "Executando arquivo: input_b.txt\n",
      "S : {aA,c}\n",
      "A : {acA,b,S}\n",
      "Elemento não corresponde ao Alfabeto\n",
      "Elemento não corresponde ao Alfabeto\n",
      "Executando arquivo: input_c.txt\n",
      "S : {i = E}\n",
      "E : {iX,n}\n",
      "X : {+nX,+iX,λ}\n",
      "Não foi possível realizar a palavra, pilha não possui não-terminais\n",
      "Não foi possível realizar a palavra, pilha não possui não-terminais\n",
      "Executando arquivo: input_d.txt\n",
      "Z : {dY}\n",
      "Y : {XTY,λ}\n",
      "T : {c,λ}\n",
      "X : {T,λ}\n",
      "Terminou\n",
      "Terminou\n"
     ]
    },
    {
     "ename": "IndexError",
     "evalue": "list index out of range",
     "output_type": "error",
     "traceback": [
      "\u001b[1;31m---------------------------------------------------------------------------\u001b[0m",
      "\u001b[1;31mIndexError\u001b[0m                                Traceback (most recent call last)",
      "\u001b[1;32mc:\\Users\\arauj\\Documents\\Nassau\\Periodo_7\\Compiladores\\First_Follow\\first_follow.ipynb\u001b[0m in \u001b[0;36m<module>\u001b[1;34m\u001b[0m\n\u001b[0;32m     10\u001b[0m \u001b[1;33m\u001b[0m\u001b[0m\n\u001b[0;32m     11\u001b[0m \u001b[1;33m\u001b[0m\u001b[0m\n\u001b[1;32m---> 12\u001b[1;33m \u001b[0melemento_analisado\u001b[0m \u001b[1;33m=\u001b[0m \u001b[0mlista_pilha\u001b[0m\u001b[1;33m[\u001b[0m\u001b[1;33m-\u001b[0m\u001b[1;36m1\u001b[0m\u001b[1;33m]\u001b[0m\u001b[1;33m\u001b[0m\u001b[1;33m\u001b[0m\u001b[0m\n\u001b[0m\u001b[0;32m     13\u001b[0m \u001b[0melemento_entrada\u001b[0m \u001b[1;33m=\u001b[0m \u001b[0mlista_entrada\u001b[0m\u001b[1;33m[\u001b[0m\u001b[1;36m0\u001b[0m\u001b[1;33m]\u001b[0m\u001b[1;33m\u001b[0m\u001b[1;33m\u001b[0m\u001b[0m\n\u001b[0;32m     14\u001b[0m \u001b[1;33m\u001b[0m\u001b[0m\n",
      "\u001b[1;31mIndexError\u001b[0m: list index out of range"
     ]
    },
    {
     "name": "stdout",
     "output_type": "stream",
     "text": [
      "Erro no arquivo: input_d.txt -> list index out of range\n",
      "Executando arquivo: input_e.txt\n",
      "S : {[L],a}\n",
      "L : {EA}\n",
      "A : {;EA,λ}\n",
      "E : {XB}\n",
      "B : {:FB,λ}\n",
      "F : {b,λ}\n",
      "X : {F,c}\n",
      "Elemento não corresponde ao Alfabeto\n",
      "Elemento não corresponde ao Alfabeto\n",
      "Executando arquivo: input_f.txt\n",
      "Erro Follow:  maximum recursion depth exceeded while calling a Python object\n",
      "Variável:  E\n",
      "Erro Follow:  maximum recursion depth exceeded while calling a Python object\n",
      "Variável:  X\n",
      "E : {[E]X,aX}\n",
      "X : {+EX,*EX,λ}\n"
     ]
    },
    {
     "ename": "RecursionError",
     "evalue": "maximum recursion depth exceeded while calling a Python object",
     "output_type": "error",
     "traceback": [
      "\u001b[1;31m---------------------------------------------------------------------------\u001b[0m",
      "\u001b[1;31mRecursionError\u001b[0m                            Traceback (most recent call last)",
      "\u001b[1;32mc:\\Users\\arauj\\Documents\\Nassau\\Periodo_7\\Compiladores\\First_Follow\\first_follow.ipynb\u001b[0m in \u001b[0;36m<module>\u001b[1;34m\u001b[0m\n\u001b[0;32m      4\u001b[0m \u001b[1;32mfor\u001b[0m \u001b[0mrow\u001b[0m \u001b[1;32min\u001b[0m \u001b[0mlista_first_por_elem\u001b[0m\u001b[1;33m:\u001b[0m\u001b[1;33m\u001b[0m\u001b[1;33m\u001b[0m\u001b[0m\n\u001b[0;32m      5\u001b[0m     \u001b[1;32mif\u001b[0m \u001b[1;34m'λ'\u001b[0m \u001b[1;32min\u001b[0m \u001b[0mrow\u001b[0m\u001b[1;33m[\u001b[0m\u001b[1;36m1\u001b[0m\u001b[1;33m]\u001b[0m\u001b[1;33m:\u001b[0m\u001b[1;33m\u001b[0m\u001b[1;33m\u001b[0m\u001b[0m\n\u001b[1;32m----> 6\u001b[1;33m         \u001b[0mlista_follow\u001b[0m \u001b[1;33m=\u001b[0m \u001b[0mfollow_set\u001b[0m\u001b[1;33m(\u001b[0m\u001b[0mrow\u001b[0m\u001b[1;33m[\u001b[0m\u001b[1;36m0\u001b[0m\u001b[1;33m]\u001b[0m\u001b[1;33m)\u001b[0m\u001b[1;33m\u001b[0m\u001b[1;33m\u001b[0m\u001b[0m\n\u001b[0m\u001b[0;32m      7\u001b[0m         \u001b[0mlista_follow\u001b[0m \u001b[1;33m=\u001b[0m \u001b[1;33m[\u001b[0m\u001b[0melem\u001b[0m \u001b[1;32mfor\u001b[0m \u001b[0melem\u001b[0m \u001b[1;32min\u001b[0m \u001b[0mlista_follow\u001b[0m \u001b[1;32mif\u001b[0m \u001b[0melem\u001b[0m \u001b[1;32mnot\u001b[0m \u001b[1;32min\u001b[0m \u001b[0mfirst_dict\u001b[0m\u001b[1;33m[\u001b[0m\u001b[0mrow\u001b[0m\u001b[1;33m[\u001b[0m\u001b[1;36m0\u001b[0m\u001b[1;33m]\u001b[0m\u001b[1;33m]\u001b[0m\u001b[1;33m]\u001b[0m\u001b[1;33m\u001b[0m\u001b[1;33m\u001b[0m\u001b[0m\n\u001b[0;32m      8\u001b[0m         \u001b[0mlista\u001b[0m \u001b[1;33m=\u001b[0m \u001b[0mmerge_lists\u001b[0m\u001b[1;33m(\u001b[0m\u001b[0mrow\u001b[0m\u001b[1;33m[\u001b[0m\u001b[1;36m2\u001b[0m\u001b[1;33m]\u001b[0m\u001b[1;33m,\u001b[0m\u001b[0mlista_follow\u001b[0m\u001b[1;33m)\u001b[0m\u001b[1;33m\u001b[0m\u001b[1;33m\u001b[0m\u001b[0m\n",
      "\u001b[1;32mc:\\Users\\arauj\\Documents\\Nassau\\Periodo_7\\Compiladores\\First_Follow\\first_follow.ipynb\u001b[0m in \u001b[0;36mfollow_set\u001b[1;34m(key)\u001b[0m\n\u001b[0;32m     27\u001b[0m                     \u001b[0msaida\u001b[0m \u001b[1;33m=\u001b[0m \u001b[1;34m'$'\u001b[0m\u001b[1;33m\u001b[0m\u001b[1;33m\u001b[0m\u001b[0m\n\u001b[0;32m     28\u001b[0m                 \u001b[1;32melse\u001b[0m\u001b[1;33m:\u001b[0m\u001b[1;33m\u001b[0m\u001b[1;33m\u001b[0m\u001b[0m\n\u001b[1;32m---> 29\u001b[1;33m                     \u001b[0msaida\u001b[0m \u001b[1;33m=\u001b[0m \u001b[0mfollow_set\u001b[0m\u001b[1;33m(\u001b[0m\u001b[0mchave\u001b[0m\u001b[1;33m)\u001b[0m\u001b[1;33m\u001b[0m\u001b[1;33m\u001b[0m\u001b[0m\n\u001b[0m\u001b[0;32m     30\u001b[0m         \u001b[1;32melse\u001b[0m\u001b[1;33m:\u001b[0m\u001b[1;33m\u001b[0m\u001b[1;33m\u001b[0m\u001b[0m\n\u001b[0;32m     31\u001b[0m             \u001b[1;32mif\u001b[0m \u001b[0mchecar_dictionario\u001b[0m\u001b[1;33m(\u001b[0m\u001b[0mpalavra_restante\u001b[0m\u001b[1;33m,\u001b[0m\u001b[0mfirst_dict\u001b[0m\u001b[1;33m)\u001b[0m\u001b[1;33m:\u001b[0m\u001b[1;33m\u001b[0m\u001b[1;33m\u001b[0m\u001b[0m\n",
      "\u001b[1;32mc:\\Users\\arauj\\Documents\\Nassau\\Periodo_7\\Compiladores\\First_Follow\\first_follow.ipynb\u001b[0m in \u001b[0;36mfollow_set\u001b[1;34m(key)\u001b[0m\n\u001b[0;32m     38\u001b[0m       \u001b[1;32mif\u001b[0m \u001b[1;34m'λ'\u001b[0m \u001b[1;32min\u001b[0m \u001b[0mresultado\u001b[0m\u001b[1;33m:\u001b[0m\u001b[1;33m\u001b[0m\u001b[1;33m\u001b[0m\u001b[0m\n\u001b[0;32m     39\u001b[0m           \u001b[0mresultado\u001b[0m\u001b[1;33m.\u001b[0m\u001b[0mremove\u001b[0m\u001b[1;33m(\u001b[0m\u001b[1;34m'λ'\u001b[0m\u001b[1;33m)\u001b[0m\u001b[1;33m\u001b[0m\u001b[1;33m\u001b[0m\u001b[0m\n\u001b[1;32m---> 40\u001b[1;33m           \u001b[0mresultado\u001b[0m \u001b[1;33m=\u001b[0m \u001b[0mmerge_lists\u001b[0m\u001b[1;33m(\u001b[0m\u001b[0mresultado\u001b[0m\u001b[1;33m,\u001b[0m\u001b[0mfollow_set\u001b[0m\u001b[1;33m(\u001b[0m\u001b[0mchave\u001b[0m\u001b[1;33m)\u001b[0m\u001b[1;33m)\u001b[0m\u001b[1;33m\u001b[0m\u001b[1;33m\u001b[0m\u001b[0m\n\u001b[0m\u001b[0;32m     41\u001b[0m \u001b[1;33m\u001b[0m\u001b[0m\n\u001b[0;32m     42\u001b[0m \u001b[1;33m\u001b[0m\u001b[0m\n",
      "... last 2 frames repeated, from the frame below ...\n",
      "\u001b[1;32mc:\\Users\\arauj\\Documents\\Nassau\\Periodo_7\\Compiladores\\First_Follow\\first_follow.ipynb\u001b[0m in \u001b[0;36mfollow_set\u001b[1;34m(key)\u001b[0m\n\u001b[0;32m     27\u001b[0m                     \u001b[0msaida\u001b[0m \u001b[1;33m=\u001b[0m \u001b[1;34m'$'\u001b[0m\u001b[1;33m\u001b[0m\u001b[1;33m\u001b[0m\u001b[0m\n\u001b[0;32m     28\u001b[0m                 \u001b[1;32melse\u001b[0m\u001b[1;33m:\u001b[0m\u001b[1;33m\u001b[0m\u001b[1;33m\u001b[0m\u001b[0m\n\u001b[1;32m---> 29\u001b[1;33m                     \u001b[0msaida\u001b[0m \u001b[1;33m=\u001b[0m \u001b[0mfollow_set\u001b[0m\u001b[1;33m(\u001b[0m\u001b[0mchave\u001b[0m\u001b[1;33m)\u001b[0m\u001b[1;33m\u001b[0m\u001b[1;33m\u001b[0m\u001b[0m\n\u001b[0m\u001b[0;32m     30\u001b[0m         \u001b[1;32melse\u001b[0m\u001b[1;33m:\u001b[0m\u001b[1;33m\u001b[0m\u001b[1;33m\u001b[0m\u001b[0m\n\u001b[0;32m     31\u001b[0m             \u001b[1;32mif\u001b[0m \u001b[0mchecar_dictionario\u001b[0m\u001b[1;33m(\u001b[0m\u001b[0mpalavra_restante\u001b[0m\u001b[1;33m,\u001b[0m\u001b[0mfirst_dict\u001b[0m\u001b[1;33m)\u001b[0m\u001b[1;33m:\u001b[0m\u001b[1;33m\u001b[0m\u001b[1;33m\u001b[0m\u001b[0m\n",
      "\u001b[1;31mRecursionError\u001b[0m: maximum recursion depth exceeded while calling a Python object"
     ]
    },
    {
     "name": "stdout",
     "output_type": "stream",
     "text": [
      "Erro no arquivo: input_f.txt -> maximum recursion depth exceeded while calling a Python object\n",
      "Executando arquivo: input_g.txt\n",
      "E : {TX}\n",
      "X : {+TX,λ}\n",
      "T : {FR}\n",
      "R : {*FR,λ}\n",
      "F : {P,-P}\n",
      "P : {[E],x,y}\n",
      "Terminou\n",
      "Terminou\n"
     ]
    },
    {
     "ename": "IndexError",
     "evalue": "list index out of range",
     "output_type": "error",
     "traceback": [
      "\u001b[1;31m---------------------------------------------------------------------------\u001b[0m",
      "\u001b[1;31mIndexError\u001b[0m                                Traceback (most recent call last)",
      "\u001b[1;32mc:\\Users\\arauj\\Documents\\Nassau\\Periodo_7\\Compiladores\\First_Follow\\first_follow.ipynb\u001b[0m in \u001b[0;36m<module>\u001b[1;34m\u001b[0m\n\u001b[0;32m     10\u001b[0m \u001b[1;33m\u001b[0m\u001b[0m\n\u001b[0;32m     11\u001b[0m \u001b[1;33m\u001b[0m\u001b[0m\n\u001b[1;32m---> 12\u001b[1;33m \u001b[0melemento_analisado\u001b[0m \u001b[1;33m=\u001b[0m \u001b[0mlista_pilha\u001b[0m\u001b[1;33m[\u001b[0m\u001b[1;33m-\u001b[0m\u001b[1;36m1\u001b[0m\u001b[1;33m]\u001b[0m\u001b[1;33m\u001b[0m\u001b[1;33m\u001b[0m\u001b[0m\n\u001b[0m\u001b[0;32m     13\u001b[0m \u001b[0melemento_entrada\u001b[0m \u001b[1;33m=\u001b[0m \u001b[0mlista_entrada\u001b[0m\u001b[1;33m[\u001b[0m\u001b[1;36m0\u001b[0m\u001b[1;33m]\u001b[0m\u001b[1;33m\u001b[0m\u001b[1;33m\u001b[0m\u001b[0m\n\u001b[0;32m     14\u001b[0m \u001b[1;33m\u001b[0m\u001b[0m\n",
      "\u001b[1;31mIndexError\u001b[0m: list index out of range"
     ]
    },
    {
     "name": "stdout",
     "output_type": "stream",
     "text": [
      "Erro no arquivo: input_g.txt -> list index out of range\n",
      "Executando arquivo: input_h.txt\n",
      "S : {AT,TB}\n",
      "T : {aTb,λ}\n",
      "A : {aA,a}\n",
      "B : {bB,b}\n",
      "Não foi possível realizar a palavra, pilha não possui não-terminais\n",
      "Não foi possível realizar a palavra, pilha não possui não-terminais\n"
     ]
    }
   ],
   "source": [
    "from os import walk\n",
    "\n",
    "file_path = \"lib/input/\"\n",
    "filenames = next(walk(file_path), (None, None, []))[2]\n",
    "for file_name_externo in filenames:\n",
    "    try:\n",
    "        print(f'Executando arquivo: {file_name_externo}')\n",
    "        %run first_follow.ipynb\n",
    "    except Exception as e:\n",
    "        print(f'Erro no arquivo: {file_name_externo} -> {e}')\n",
    "\n"
   ]
  },
  {
   "cell_type": "code",
   "execution_count": null,
   "metadata": {},
   "outputs": [],
   "source": []
  }
 ],
 "metadata": {
  "interpreter": {
   "hash": "e87665ec0a165f363d8cc3bca4f0bcbed11768be787550cb756e5633f85a0d65"
  },
  "kernelspec": {
   "display_name": "Python 3.8.5 ('base')",
   "language": "python",
   "name": "python3"
  },
  "language_info": {
   "codemirror_mode": {
    "name": "ipython",
    "version": 3
   },
   "file_extension": ".py",
   "mimetype": "text/x-python",
   "name": "python",
   "nbconvert_exporter": "python",
   "pygments_lexer": "ipython3",
   "version": "3.8.5"
  },
  "orig_nbformat": 4
 },
 "nbformat": 4,
 "nbformat_minor": 2
}
