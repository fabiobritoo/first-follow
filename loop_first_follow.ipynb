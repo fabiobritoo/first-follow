{
 "cells": [
  {
   "cell_type": "markdown",
   "metadata": {},
   "source": [
    "### First Follow"
   ]
  },
  {
   "cell_type": "code",
   "execution_count": 41,
   "metadata": {},
   "outputs": [],
   "source": [
    "import os\n",
    "import pandas as pd\n",
    "import numpy as np"
   ]
  },
  {
   "cell_type": "code",
   "execution_count": 42,
   "metadata": {},
   "outputs": [],
   "source": [
    "import datetime\n",
    "data_atual = datetime.datetime.now().strftime(\"%d/%m/%Y, %H:%M:%S\")"
   ]
  },
  {
   "cell_type": "code",
   "execution_count": null,
   "metadata": {},
   "outputs": [],
   "source": []
  },
  {
   "cell_type": "code",
   "execution_count": 43,
   "metadata": {},
   "outputs": [],
   "source": [
    "def criar_tabela(df):\n",
    "    ### Adicionar Tabela de First - Follow\n",
    "    table = doc.add_table(rows=1, cols=len(df.columns))\n",
    "    # Adding style to a table\n",
    "    table.style = 'Light Grid Accent 1'\n",
    "    ### Indices\n",
    "    row = table.rows[0].cells\n",
    "    for idx, coluna in enumerate(df.columns):\n",
    "        row[idx].text = coluna\n",
    "\n",
    "    ### Valores\n",
    "\n",
    "    for index, linha in df.iterrows():\n",
    "        # Adding a row and then adding data in it.\n",
    "        row = table.add_row().cells\n",
    "\n",
    "        for idx, elem in enumerate(linha):\n",
    "            row[idx].text = elem\n",
    "    "
   ]
  },
  {
   "cell_type": "code",
   "execution_count": 44,
   "metadata": {},
   "outputs": [
    {
     "data": {
      "text/plain": [
       "<docx.text.paragraph.Paragraph at 0x29345453070>"
      ]
     },
     "execution_count": 44,
     "metadata": {},
     "output_type": "execute_result"
    }
   ],
   "source": [
    "# Import docx NOT python-docx\n",
    "import docx\n",
    "  \n",
    "# Create an instance of a word document\n",
    "doc = docx.Document()\n",
    "  \n",
    "# Add a Title to the document\n",
    "doc.add_heading('Relatório Tabela Preditiva', 0)\n",
    "doc.add_paragraph(f'Relatório Automático Gerado em {data_atual}')\n"
   ]
  },
  {
   "cell_type": "code",
   "execution_count": 45,
   "metadata": {},
   "outputs": [
    {
     "name": "stdout",
     "output_type": "stream",
     "text": [
      "Executando arquivo: exemplo1.txt\n",
      "Produção:\n",
      "E : {TA}\n",
      "A : {+TA,λ}\n",
      "T : {FB}\n",
      "B : {*FB,λ}\n",
      "F : {(E),x}\n",
      "Tabela Preditiva Gerada\n",
      "Elemento não corresponde ao Alfabeto\n",
      "Tabela de Testes Gerada\n",
      "####################################################################################################\n",
      "Executando arquivo: exemplo2.txt\n",
      "Produção:\n",
      "S : {ACB,CbB,Ba}\n",
      "A : {da,BC}\n",
      "B : {g,λ}\n",
      "C : {h,λ}\n",
      "Tabela Preditiva Gerada\n",
      "Não foi possível realizar a palavra, pilha não possui não-terminais\n",
      "Tabela de Testes Gerada\n",
      "####################################################################################################\n",
      "Executando arquivo: exemplo3.txt\n",
      "Produção:\n",
      "S : {aBDh}\n",
      "B : {cC}\n",
      "C : {bC,λ}\n",
      "D : {EF}\n",
      "E : {g,λ}\n",
      "F : {f,λ}\n",
      "Tabela Preditiva Gerada\n",
      "Não foi possível realizar a palavra, não há producão que gere entrada\n",
      "Tabela de Testes Gerada\n",
      "####################################################################################################\n",
      "Executando arquivo: input_a.txt\n",
      "Produção:\n",
      "S : {aSbc,D}\n",
      "D : {dD,d}\n",
      "Tabela Preditiva Gerada\n",
      "Tabela de Testes Gerada\n",
      "####################################################################################################\n",
      "Executando arquivo: input_b.txt\n",
      "Produção:\n",
      "S : {aA,c}\n",
      "A : {acA,b,S}\n",
      "Tabela Preditiva Gerada\n",
      "Tabela de Testes Gerada\n",
      "####################################################################################################\n",
      "Executando arquivo: input_c.txt\n",
      "Produção:\n",
      "S : {i = E}\n",
      "E : {iX,nX}\n",
      "X : {+nX,+iX,λ}\n",
      "Tabela Preditiva Gerada\n",
      "Tabela de Testes Gerada\n",
      "####################################################################################################\n",
      "Executando arquivo: input_d.txt\n",
      "Produção:\n",
      "Z : {dY}\n",
      "Y : {XTY,λ}\n",
      "T : {c,λ}\n",
      "X : {T,λ}\n",
      "Tabela Preditiva Gerada\n",
      "Tabela de Testes Gerada\n",
      "####################################################################################################\n",
      "Executando arquivo: input_e.txt\n",
      "Produção:\n",
      "S : {[L],a}\n",
      "L : {EA}\n",
      "A : {;EA,λ}\n",
      "E : {XB}\n",
      "B : {:FB,λ}\n",
      "F : {b,λ}\n",
      "X : {F,c}\n",
      "Tabela Preditiva Gerada\n",
      "Tabela de Testes Gerada\n",
      "####################################################################################################\n",
      "Executando arquivo: input_f.txt\n",
      "Produção:\n",
      "E : {[E]X,aX}\n",
      "X : {+EX,*EX,λ}\n",
      "Tabela Preditiva Gerada\n",
      "Tabela de Testes Gerada\n",
      "####################################################################################################\n",
      "Executando arquivo: input_g.txt\n",
      "Produção:\n",
      "E : {TX}\n",
      "X : {+TX,λ}\n",
      "T : {FR}\n",
      "R : {*FR,λ}\n",
      "F : {P,-P}\n",
      "P : {[E],x,y}\n",
      "Tabela Preditiva Gerada\n",
      "Tabela de Testes Gerada\n",
      "####################################################################################################\n",
      "Executando arquivo: input_h.txt\n",
      "Produção:\n",
      "S : {AT,TB}\n",
      "T : {aTb,λ}\n",
      "A : {aA,a}\n",
      "B : {bB,b}\n",
      "Tabela Preditiva Gerada\n",
      "Tabela de Testes Gerada\n",
      "####################################################################################################\n"
     ]
    }
   ],
   "source": [
    "from os import walk\n",
    "\n",
    "file_path = \"lib/input/productions\"\n",
    "filenames = next(walk(file_path), (None, None, []))[2]\n",
    "for file_name_externo in filenames:\n",
    "    try:\n",
    "        if True:\n",
    "            print(f'Executando arquivo: {file_name_externo}')\n",
    "            %run first_follow.ipynb\n",
    "            print('#'*100)\n",
    "    except Exception as e:\n",
    "        print(f'Erro no arquivo: {file_name_externo} -> {e}')\n",
    "\n",
    "doc.save('report.docx')\n"
   ]
  },
  {
   "cell_type": "code",
   "execution_count": null,
   "metadata": {},
   "outputs": [],
   "source": []
  }
 ],
 "metadata": {
  "interpreter": {
   "hash": "e87665ec0a165f363d8cc3bca4f0bcbed11768be787550cb756e5633f85a0d65"
  },
  "kernelspec": {
   "display_name": "Python 3.8.5 ('base')",
   "language": "python",
   "name": "python3"
  },
  "language_info": {
   "codemirror_mode": {
    "name": "ipython",
    "version": 3
   },
   "file_extension": ".py",
   "mimetype": "text/x-python",
   "name": "python",
   "nbconvert_exporter": "python",
   "pygments_lexer": "ipython3",
   "version": "3.8.5"
  },
  "orig_nbformat": 4
 },
 "nbformat": 4,
 "nbformat_minor": 2
}
