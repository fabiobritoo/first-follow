{
 "cells": [
  {
   "cell_type": "markdown",
   "metadata": {},
   "source": [
    "### First Follow"
   ]
  },
  {
   "cell_type": "code",
   "execution_count": 18,
   "metadata": {},
   "outputs": [],
   "source": [
    "import os\n",
    "import pandas as pd\n",
    "import numpy as np"
   ]
  },
  {
   "cell_type": "code",
   "execution_count": 19,
   "metadata": {},
   "outputs": [
    {
     "name": "stdout",
     "output_type": "stream",
     "text": [
      "Executando arquivo: input_a.txt\n",
      "Executando arquivo: input_b.txt\n",
      "Erro Follow:  maximum recursion depth exceeded in comparison\n",
      "Variável:  S\n",
      "Erro Follow:  maximum recursion depth exceeded while calling a Python object\n",
      "Variável:  A\n",
      "Executando arquivo: input_c.txt\n",
      "Executando arquivo: input_d.txt\n",
      "Executando arquivo: input_e.txt\n",
      "Executando arquivo: input_f.txt\n",
      "Erro Follow:  maximum recursion depth exceeded while calling a Python object\n",
      "Variável:  E\n",
      "Erro Follow:  maximum recursion depth exceeded while calling a Python object\n",
      "Variável:  X\n",
      "Executando arquivo: input_g.txt\n",
      "Executando arquivo: input_h.txt\n"
     ]
    }
   ],
   "source": [
    "from os import walk\n",
    "\n",
    "file_path = \"lib/input/\"\n",
    "filenames = next(walk(file_path), (None, None, []))[2]\n",
    "for file_name_externo in filenames:\n",
    "    try:\n",
    "        print(f'Executando arquivo: {file_name_externo}')\n",
    "        %run first_follow.ipynb\n",
    "    except Exception as e:\n",
    "        print(f'Erro no arquivo: {file_name_externo} -> {e}')\n",
    "\n"
   ]
  },
  {
   "cell_type": "code",
   "execution_count": null,
   "metadata": {},
   "outputs": [],
   "source": []
  }
 ],
 "metadata": {
  "interpreter": {
   "hash": "e87665ec0a165f363d8cc3bca4f0bcbed11768be787550cb756e5633f85a0d65"
  },
  "kernelspec": {
   "display_name": "Python 3.8.5 ('base')",
   "language": "python",
   "name": "python3"
  },
  "language_info": {
   "codemirror_mode": {
    "name": "ipython",
    "version": 3
   },
   "file_extension": ".py",
   "mimetype": "text/x-python",
   "name": "python",
   "nbconvert_exporter": "python",
   "pygments_lexer": "ipython3",
   "version": "3.8.5"
  },
  "orig_nbformat": 4
 },
 "nbformat": 4,
 "nbformat_minor": 2
}
